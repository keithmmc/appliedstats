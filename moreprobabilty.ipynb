{
 "cells": [
  {
   "cell_type": "markdown",
   "id": "ef3a8de0",
   "metadata": {},
   "source": [
    " Probability theory is nothing but common sense reduced to calculation. ... [Probability] is thus simply a fraction whose numerator is the number of favorable cases and whose denominator is the number of all the cases possible ... when nothing leads us to expect that any one of these cases should occur more than any other. "
   ]
  },
  {
   "cell_type": "markdown",
   "id": "baf0497f",
   "metadata": {},
   "source": [
    "To untangle a probability problem, all you have to do is define exactly what the cases are, and carefully count the favorable and total cases. Let's be clear on our vocabulary words:\n",
    "\n",
    "Trial: A single occurrence with an outcome that is uncertain until it happens.\n",
    "For example, rolling a single die.\n",
    "Outcome: A possible result of a trial; one particular state of the world. What Laplace calls a case.\n",
    "For example: the die comes up as 4.\n",
    "Sample Space: The set of all possible outcomes for the trial.\n",
    "For example, {1, 2, 3, 4, 5, 6}.\n",
    "Event: A subset of the sample space, a set of outcomes that together have some property we are interested in.\n",
    "For example, the event \"even die roll\" is the set of outcomes {2, 4, 6}.\n",
    "Probability: As Laplace said, the probability of an event with respect to a sample space is the \"number of favorable cases\" (outcomes from the sample space that are in the event) divided by the \"number of all the cases\" in the sample space, assuming \"nothing leads us to expect that any one of these cases should occur more than any other.\" Since this is a proper fraction, probability will always be a number between 0 (representing an impossible event) and 1 (representing a certain event).\n",
    "For example, the probability of an even die roll is 3/6 = 1/2.\n",
    "This notebook will explore these concepts in a concrete way using Python code. The code is meant to be succint and explicit, and fast enough to handle sample spaces with millions of outcomes. If you need to handle trillions, you'll want a more efficient implementation. I also have another notebook that covers paradoxes in Probability Theory."
   ]
  },
  {
   "cell_type": "code",
   "execution_count": 1,
   "id": "a498f5d5",
   "metadata": {},
   "outputs": [],
   "source": [
    "from fractions import Fraction \n",
    "from itertools import combinations, product\n",
    "from typing import *\n",
    "import math\n",
    "import random \n",
    "\n"
   ]
  },
  {
   "cell_type": "code",
   "execution_count": 2,
   "id": "c7b900b0",
   "metadata": {},
   "outputs": [],
   "source": [
    "Space = set # a simple space is a set of all possible outcomes \n",
    "Event = set # an event is a subset of the sample space \n"
   ]
  },
  {
   "cell_type": "markdown",
   "id": "df9ae906",
   "metadata": {},
   "source": [
    "# P is for Probability\n",
    "The code below implements Laplace's quote directly: Probability is thus simply a fraction whose numerator is the number of favorable cases and whose denominator is the number of all the cases possible"
   ]
  },
  {
   "cell_type": "code",
   "execution_count": 3,
   "id": "868f1ae2",
   "metadata": {},
   "outputs": [],
   "source": [
    "def P(event: Event, space: Space) -> Fraction:\n",
    "    \"\"\"The probability of an event, given a sample space:\n",
    "    the number of favorable cases divided by the number of all the cases possible.\"\"\"\n",
    "    return Fraction(number_cases(favorable(event, space)),\n",
    "                    number_cases(space))"
   ]
  },
  {
   "cell_type": "code",
   "execution_count": 4,
   "id": "146d8037",
   "metadata": {},
   "outputs": [],
   "source": [
    "favorable    = set.intersection # Favorable cases are in the event and also in the sample space\n",
    "number_cases = len              # The number of cases is the length, or size, of a set"
   ]
  },
  {
   "cell_type": "markdown",
   "id": "b29f2792",
   "metadata": {},
   "source": [
    "# Die Roll\n",
    "What's the probability of an even number with a single roll of a six-sided fair die?\n",
    "\n",
    "Mathematicians traditionally use a single capital letter to denote a sample space; I'll use D for the die:"
   ]
  },
  {
   "cell_type": "code",
   "execution_count": 5,
   "id": "56e36581",
   "metadata": {},
   "outputs": [],
   "source": [
    "D = {1, 2, 3, 4, 5, 6}"
   ]
  },
  {
   "cell_type": "markdown",
   "id": "7c276e72",
   "metadata": {},
   "source": [
    "then define the event of rolling an even number, and ask for the probability of that event:"
   ]
  },
  {
   "cell_type": "code",
   "execution_count": 6,
   "id": "d93ffd57",
   "metadata": {},
   "outputs": [
    {
     "data": {
      "text/plain": [
       "Fraction(1, 2)"
      ]
     },
     "execution_count": 6,
     "metadata": {},
     "output_type": "execute_result"
    }
   ],
   "source": [
    "even = {2, 4, 6} # the event of an even roll\n",
    "\n",
    "P(even, D)"
   ]
  },
  {
   "cell_type": "code",
   "execution_count": 7,
   "id": "0b932d1b",
   "metadata": {},
   "outputs": [],
   "source": [
    "odd = {1, 3, 5, 7, 9, 11, 13}"
   ]
  },
  {
   "cell_type": "code",
   "execution_count": 8,
   "id": "76355cad",
   "metadata": {},
   "outputs": [
    {
     "data": {
      "text/plain": [
       "Fraction(5, 6)"
      ]
     },
     "execution_count": 8,
     "metadata": {},
     "output_type": "execute_result"
    }
   ],
   "source": [
    "prime = {2, 3, 5, 7, 11, 13}\n",
    "\n",
    "P((even | prime), D) # The probability of an even or prime die roll"
   ]
  },
  {
   "cell_type": "code",
   "execution_count": 9,
   "id": "5381c42b",
   "metadata": {},
   "outputs": [
    {
     "data": {
      "text/plain": [
       "Fraction(1, 3)"
      ]
     },
     "execution_count": 9,
     "metadata": {},
     "output_type": "execute_result"
    }
   ],
   "source": [
    "P((odd & prime), D) # The probability of an odd prime die roll"
   ]
  },
  {
   "cell_type": "markdown",
   "id": "8f879f16",
   "metadata": {},
   "source": [
    "# Card Problems\n",
    "Consider a deck of playing cards. An individual card has a rank and suit, and will be represented as a string, like 'A♥' for the Ace of Hearts. There are 4 suits and 13 ranks, so there are 52 cards in a deck:"
   ]
  },
  {
   "cell_type": "code",
   "execution_count": 10,
   "id": "0756d02b",
   "metadata": {},
   "outputs": [
    {
     "data": {
      "text/plain": [
       "52"
      ]
     },
     "execution_count": 10,
     "metadata": {},
     "output_type": "execute_result"
    }
   ],
   "source": [
    "suits = '♥♠♦♣'\n",
    "ranks = 'AKQJT98765432'\n",
    "deck = [r + s for r in ranks for s in suits]\n",
    "len(deck)"
   ]
  },
  {
   "cell_type": "markdown",
   "id": "6cdaaefc",
   "metadata": {},
   "source": [
    "lets define Hands as the sample space of all possible 5-card hands that could be dealt from a deck. The function itertools.combinations does most of the work; we then concatenate the combinations into space-separateds string using joins:"
   ]
  },
  {
   "cell_type": "code",
   "execution_count": 11,
   "id": "85de7e69",
   "metadata": {},
   "outputs": [
    {
     "data": {
      "text/plain": [
       "2598960"
      ]
     },
     "execution_count": 11,
     "metadata": {},
     "output_type": "execute_result"
    }
   ],
   "source": [
    "def joins(strings) -> Set[str]: return {' '. join(s) for s in strings} \n",
    "Hands = joins(combinations(deck, 5)) \n",
    "len(Hands)"
   ]
  },
  {
   "cell_type": "code",
   "execution_count": 12,
   "id": "15476e43",
   "metadata": {},
   "outputs": [
    {
     "data": {
      "text/plain": [
       "['A♣ 8♠ 8♦ 2♦ 2♣',\n",
       " 'K♦ 9♥ 9♣ 6♥ 5♠',\n",
       " 'A♥ J♠ T♦ 4♦ 4♣',\n",
       " 'K♣ 8♦ 7♠ 3♣ 2♦',\n",
       " 'K♠ 5♥ 4♦ 3♣ 2♠',\n",
       " '6♥ 5♦ 3♥ 3♠ 2♦',\n",
       " 'K♥ T♥ 4♥ 2♥ 2♠']"
      ]
     },
     "execution_count": 12,
     "metadata": {},
     "output_type": "execute_result"
    }
   ],
   "source": [
    "random.sample(list(Hands), 7)"
   ]
  },
  {
   "cell_type": "markdown",
   "id": "470980bb",
   "metadata": {},
   "source": [
    "what is the probability of being dealt a flush (5 cards of the same suit): "
   ]
  },
  {
   "cell_type": "code",
   "execution_count": 13,
   "id": "f694d448",
   "metadata": {},
   "outputs": [
    {
     "data": {
      "text/plain": [
       "Fraction(33, 16660)"
      ]
     },
     "execution_count": 13,
     "metadata": {},
     "output_type": "execute_result"
    }
   ],
   "source": [
    "flush = {hand for hand in Hands if any(hand.count(suit) == 5 for suit in suits)} \n",
    "P(flush, Hands)"
   ]
  },
  {
   "cell_type": "markdown",
   "id": "7a4043f3",
   "metadata": {},
   "source": [
    "lets look at four of a kind"
   ]
  },
  {
   "cell_type": "code",
   "execution_count": 14,
   "id": "026595ed",
   "metadata": {},
   "outputs": [
    {
     "data": {
      "text/plain": [
       "Fraction(1, 4165)"
      ]
     },
     "execution_count": 14,
     "metadata": {},
     "output_type": "execute_result"
    }
   ],
   "source": [
    "four_kind = {hand for hand in Hands if any(hand.count(rank) == 4 for rank in ranks)}\n",
    "\n",
    "P(four_kind, Hands)"
   ]
  },
  {
   "cell_type": "markdown",
   "id": "10cf6d85",
   "metadata": {},
   "source": [
    "#  Urn Problems\n",
    "Around 1700, Jacob Bernoulli wrote about removing colored balls from an urn in his landmark treatise Ars Conjectandi, and ever since then, explanations of probability have relied on urn problems."
   ]
  },
  {
   "cell_type": "markdown",
   "id": "dbf25932",
   "metadata": {},
   "source": [
    "An urn contains 6 blue, 9 red, and 8 white balls. We select six balls at random. What is the probability of each of these outcomes:\n",
    "\n",
    "All balls are red.\n",
    "3 are blue, and 1 is red, and 2 are white.\n",
    "Exactly 4 balls are white."
   ]
  },
  {
   "cell_type": "code",
   "execution_count": 15,
   "id": "733d04d1",
   "metadata": {},
   "outputs": [
    {
     "data": {
      "text/plain": [
       "['B1',\n",
       " 'B2',\n",
       " 'B3',\n",
       " 'B4',\n",
       " 'B5',\n",
       " 'B6',\n",
       " 'R1',\n",
       " 'R2',\n",
       " 'R3',\n",
       " 'R4',\n",
       " 'R5',\n",
       " 'R6',\n",
       " 'R7',\n",
       " 'R8',\n",
       " 'R9',\n",
       " 'W1',\n",
       " 'W2',\n",
       " 'W3',\n",
       " 'W4',\n",
       " 'W5',\n",
       " 'W6',\n",
       " 'W7',\n",
       " 'W8']"
      ]
     },
     "execution_count": 15,
     "metadata": {},
     "output_type": "execute_result"
    }
   ],
   "source": [
    "def names(name: str, n) -> List[str]:\n",
    "    \"\"\"A list of `n` distinct names.\"\"\"\n",
    "    return [name + str(i) for i in range(1, n + 1)]\n",
    "\n",
    "urn = names('B', 6) + names('R', 9) + names('W', 8)\n",
    "urn"
   ]
  },
  {
   "cell_type": "code",
   "execution_count": 16,
   "id": "111e9530",
   "metadata": {},
   "outputs": [
    {
     "data": {
      "text/plain": [
       "['B3 R5 R6 R8 R9 W1',\n",
       " 'B3 B6 W1 W2 W4 W6',\n",
       " 'B2 R1 R4 R7 R8 W7',\n",
       " 'B3 B4 B5 R1 R8 W5',\n",
       " 'B2 B6 R4 R7 R8 W1']"
      ]
     },
     "execution_count": 16,
     "metadata": {},
     "output_type": "execute_result"
    }
   ],
   "source": [
    "U6 = joins(combinations(urn, 6))\n",
    "\n",
    "random.sample(list(U6), 5) # A sample from the U6 set"
   ]
  },
  {
   "cell_type": "code",
   "execution_count": 17,
   "id": "12a4a4a6",
   "metadata": {},
   "outputs": [],
   "source": [
    "def select(color, n, space=U6) -> set:\n",
    "    \"The subset of the sample space with exactly `n` balls of given `color`.\"\n",
    "    return {s for s in space if s.count(color) == n}"
   ]
  },
  {
   "cell_type": "code",
   "execution_count": 18,
   "id": "1cf59a62",
   "metadata": {},
   "outputs": [
    {
     "data": {
      "text/plain": [
       "Fraction(4, 4807)"
      ]
     },
     "execution_count": 18,
     "metadata": {},
     "output_type": "execute_result"
    }
   ],
   "source": [
    "P(select('R', 6), U6) # Probability that all 6 balls are red."
   ]
  },
  {
   "cell_type": "code",
   "execution_count": 19,
   "id": "8467d858",
   "metadata": {},
   "outputs": [
    {
     "data": {
      "text/plain": [
       "Fraction(240, 4807)"
      ]
     },
     "execution_count": 19,
     "metadata": {},
     "output_type": "execute_result"
    }
   ],
   "source": [
    "P(select('B', 3)  & select('R', 1) & select('W', 2), U6) # Probability that 3 are blue, and 1 is red, and 2 are white"
   ]
  },
  {
   "cell_type": "markdown",
   "id": "56bf23e2",
   "metadata": {},
   "source": [
    "# Urn problems via arithmetic\n",
    "Let's verify these calculations using basic arithmetic, rather than exhaustive counting. First, how many ways can I choose 6 out of 9 red balls? It could be any of the 9 for the first ball, any of 8 remaining for the second, and so on down to any of the remaining 4 for the sixth and final ball. But we don't care about the order of the six balls, so divide that product by the number of permutations of 6 things, which is 6!, giving us 9 × 8 × 7 × 6 × 5 × 4 / 6! = 84. In general, the number of ways of choosing k out of n items is (n choose k) = n! / ((n - c)! × c!). In Python 3.8+ that is provided as the math.comb function.\n",
    "\n",
    "Now we can verify the answers to the three problems. (Since P computes a ratio and choose computes a count, I multiply the left-hand-side by N, the length of the sample space, to make both sides be counts.)"
   ]
  },
  {
   "cell_type": "code",
   "execution_count": 20,
   "id": "76a217b7",
   "metadata": {},
   "outputs": [],
   "source": [
    "N = len(U6)\n",
    "\n",
    "assert math.comb(9, 6) == 84\n",
    "\n",
    "assert (N * P(select('R', 6), U6) ==\n",
    "        math.comb(9, 6))\n",
    "\n",
    "assert (N * P(select('B', 3) & select('W', 2) & select('R', 1), U6) ==\n",
    "        math.comb(6, 3) * math.comb(8, 2) * math.comb(9, 1))\n",
    "\n",
    "assert (N * P(select('W', 4), U6) == \n",
    "        math.comb(8, 4) * math.comb(6 + 9, 2))  # (6 + 9 non-white balls)"
   ]
  },
  {
   "cell_type": "code",
   "execution_count": 21,
   "id": "ba205bbc",
   "metadata": {},
   "outputs": [
    {
     "data": {
      "text/plain": [
       "(Fraction(4, 4807), 0.0008321198252548367)"
      ]
     },
     "execution_count": 21,
     "metadata": {},
     "output_type": "execute_result"
    }
   ],
   "source": [
    "P(select('R', 6), U6) , math.comb(9, 6) / N"
   ]
  },
  {
   "cell_type": "markdown",
   "id": "e32c2a5a",
   "metadata": {},
   "source": [
    "# Non-Equiprobable Outcomes\n",
    "So far, we have accepted Laplace's assumption that nothing leads us to expect that any one of these cases should occur more than any other. In real life, we often get outcomes that are not equiprobable--for example, a loaded die favors one side over the others. We will introduce three more vocabulary items:\n",
    "\n",
    "Frequency: a non-negative number describing how often an outcome occurs. It Can be a count like 5, or a ratio like 1/6.\n",
    "Distribution: A mapping from outcome to frequency of that outcome. We will allow a sample spaces to be either a set (of equi-probable outcomes) or a distribution.\n",
    "Probability Distribution: A probability distribution is a distribution whose frequencies sum to 1."
   ]
  },
  {
   "cell_type": "code",
   "execution_count": 22,
   "id": "befe813e",
   "metadata": {},
   "outputs": [],
   "source": [
    "class Dist(Counter):\n",
    "    \"A Distribution of {outcome: frequency} pairs.\"\n",
    "\n",
    "Space = Union[set, Dist]"
   ]
  },
  {
   "cell_type": "markdown",
   "id": "cb60c729",
   "metadata": {},
   "source": [
    "Because a Dist is a Counter, we can initialize it three different ways:\n",
    "\n",
    "With a collection of outcomes (equiprobable or not).\n",
    "With a mapping of {outcome: frequency} pairs.\n",
    "With keyword arguments, each being assigned a frequency number."
   ]
  },
  {
   "cell_type": "code",
   "execution_count": 23,
   "id": "f6c42a2e",
   "metadata": {},
   "outputs": [],
   "source": [
    "assert Dist('THHHTTHHT')  ==  Dist({'H': 5, 'T': 4})  ==  Dist(H=5, T=4)"
   ]
  },
  {
   "cell_type": "markdown",
   "id": "f8c31d7e",
   "metadata": {},
   "source": [
    "Now I will modify the code to handle distributions. Here's my plan:\n",
    "\n",
    "The function P is unchanged. Laplace's advice still stands!\n",
    "A sample space can be either a set or a distribution, so I will redefine three helper functions:\n",
    "number_cases now sums the frequencies in a distribution (it previously counted the length).\n",
    "favorable now returns a Dist of favorable outcomes and their frequencies (not a set).\n",
    "Fraction now uses \"/\", not fractions.Fraction, because frequencies might be floats."
   ]
  },
  {
   "cell_type": "code",
   "execution_count": 24,
   "id": "e4dd74c7",
   "metadata": {},
   "outputs": [],
   "source": [
    "def number_cases(outcomes) -> float:\n",
    "    \"\"\"The total frequency of all the outcomes.\"\"\"\n",
    "    return sum(cast(outcomes, Dist).values())\n",
    "\n",
    "def favorable(event: Event, space: Space) -> Dist:\n",
    "    \"\"\"A distribution of outcomes from the sample space that are in the event.\"\"\"\n",
    "    space = cast(space, Dist)\n",
    "    return Dist({x: space[x] for x in space if x in event})\n",
    "\n",
    "def Fraction(n, d): return n / d\n",
    "\n",
    "def cast(object, typ: Type) -> object:\n",
    "    \"\"\"Convert `object` to `typ`, unless it is already of type `typ`.\"\"\"\n",
    "    return object if isinstance(object, typ) else typ(object)"
   ]
  },
  {
   "cell_type": "markdown",
   "id": "2c6ac80f",
   "metadata": {},
   "source": [
    "here's the probability of rolling an even number with a crooked die that is loaded to prefer 6:"
   ]
  },
  {
   "cell_type": "code",
   "execution_count": 25,
   "id": "16c6dd26",
   "metadata": {},
   "outputs": [
    {
     "data": {
      "text/plain": [
       "0.7"
      ]
     },
     "execution_count": 25,
     "metadata": {},
     "output_type": "execute_result"
    }
   ],
   "source": [
    "Crooked = Dist({1: 0.1, 2: 0.1, 3: 0.1, 4: 0.1, 5: 0.1, 6: 0.5})\n",
    "\n",
    "P(even, Crooked)"
   ]
  },
  {
   "cell_type": "markdown",
   "id": "41d379af",
   "metadata": {},
   "source": [
    "Birth Counts\n",
    "As another example, an article gives the following counts for two-child families in Denmark, where GB means a family where the first-born child is a girl and the second a boy (I'm aware that not all births can be classified as the binary \"boy\" or \"girl,\" but this particular data set was reported that way):"
   ]
  },
  {
   "cell_type": "code",
   "execution_count": 26,
   "id": "79648f14",
   "metadata": {},
   "outputs": [],
   "source": [
    "DK = Dist(GG=121801, GB=126840, \n",
    "          BG=127123, BB=135138)"
   ]
  },
  {
   "cell_type": "markdown",
   "id": "84833a2a",
   "metadata": {},
   "source": [
    "lets define some events "
   ]
  },
  {
   "cell_type": "code",
   "execution_count": 27,
   "id": "25c40a53",
   "metadata": {},
   "outputs": [],
   "source": [
    "first_girl  = {'GG', 'GB'}\n",
    "second_girl = {'GG', 'BG'}\n",
    "first_boy   = {'BB', 'BG'}\n",
    "second_boy  = {'BB', 'GB'}\n",
    "same        = {'GG', 'BB'}"
   ]
  },
  {
   "cell_type": "markdown",
   "id": "4b5fdbd3",
   "metadata": {},
   "source": [
    "And ask for the probability that, say, the first or second child is a girl, or that the two children have the same sex:"
   ]
  },
  {
   "cell_type": "code",
   "execution_count": 28,
   "id": "1ca8c55a",
   "metadata": {},
   "outputs": [
    {
     "data": {
      "text/plain": [
       "0.48667063350701306"
      ]
     },
     "execution_count": 28,
     "metadata": {},
     "output_type": "execute_result"
    }
   ],
   "source": [
    "P(first_girl, DK)"
   ]
  },
  {
   "cell_type": "code",
   "execution_count": 29,
   "id": "75b15956",
   "metadata": {},
   "outputs": [
    {
     "data": {
      "text/plain": [
       "0.4872245557856497"
      ]
     },
     "execution_count": 29,
     "metadata": {},
     "output_type": "execute_result"
    }
   ],
   "source": [
    "P(second_girl, DK)"
   ]
  },
  {
   "cell_type": "code",
   "execution_count": 30,
   "id": "349eef1e",
   "metadata": {},
   "outputs": [
    {
     "data": {
      "text/plain": [
       "0.5029124959385557"
      ]
     },
     "execution_count": 30,
     "metadata": {},
     "output_type": "execute_result"
    }
   ],
   "source": [
    "P(same, DK)"
   ]
  },
  {
   "cell_type": "markdown",
   "id": "5a5d3bb4",
   "metadata": {},
   "source": [
    "# The St. Petersburg Paradox\n",
    "\n",
    "A casino offers a game of chance for a single player in which a fair coin is tossed at each stage. The pot starts at 2 dollars and is doubled every time a head appears. The first time a tail appears, the game ends and the player wins whatever is in the pot. Thus the player wins 2 dollars if a tail appears on the first toss, 4 dollars if a head appears on the first toss and a tail on the second, etc. What is the expected value of this game to the player?\n",
    "\n",
    "To calculate the expected value, we see there is a 1/2 chance of a tail on the first toss (yielding a pot of 2 dollars) and if not that, a 1/2 × 1/2 = 1/4 chance of a tail on the second toss (yielding a pot of 4 dollars), and so on."
   ]
  },
  {
   "cell_type": "markdown",
   "id": "ea22435a",
   "metadata": {},
   "source": [
    "Response 1: Limited Resources\n",
    "The first major response to the paradox is that the casino's resources are limited. Once you break their bank, they can't pay out any more, and thus the expected return is finite"
   ]
  },
  {
   "cell_type": "code",
   "execution_count": 39,
   "id": "069dc29e",
   "metadata": {},
   "outputs": [],
   "source": [
    "def st_pete(limit):\n",
    "    \"Return the probability distribution for the St. Petersburg Paradox with a limited bank.\"\n",
    "    P = {}     # The probability distribution\n",
    "    pot = 2    # Amount of money in the pot\n",
    "    pr  = 1/2. # Probability that you end up with the amount in pot\n",
    "    while pot < limit:\n",
    "        P[pot] = pr\n",
    "        pot    = pot * 2\n",
    "        pr     = pr / 2\n",
    "    P[limit] = pr * 2     # pr * 2 because you get limit for heads or tails\n",
    "    return P\n",
    "\n"
   ]
  },
  {
   "cell_type": "markdown",
   "id": "784e2842",
   "metadata": {},
   "source": [
    "Let's try with the casino limited to 100 million dollars:"
   ]
  },
  {
   "cell_type": "code",
   "execution_count": 40,
   "id": "458e7792",
   "metadata": {},
   "outputs": [
    {
     "data": {
      "text/plain": [
       "{2: 0.5,\n",
       " 4: 0.25,\n",
       " 8: 0.125,\n",
       " 16: 0.0625,\n",
       " 32: 0.03125,\n",
       " 64: 0.015625,\n",
       " 128: 0.0078125,\n",
       " 256: 0.00390625,\n",
       " 512: 0.001953125,\n",
       " 1024: 0.0009765625,\n",
       " 2048: 0.00048828125,\n",
       " 4096: 0.000244140625,\n",
       " 8192: 0.0001220703125,\n",
       " 16384: 6.103515625e-05,\n",
       " 32768: 3.0517578125e-05,\n",
       " 65536: 1.52587890625e-05,\n",
       " 131072: 7.62939453125e-06,\n",
       " 262144: 3.814697265625e-06,\n",
       " 524288: 1.9073486328125e-06,\n",
       " 1048576: 9.5367431640625e-07,\n",
       " 2097152: 4.76837158203125e-07,\n",
       " 4194304: 2.384185791015625e-07,\n",
       " 8388608: 1.1920928955078125e-07,\n",
       " 16777216: 5.960464477539063e-08,\n",
       " 33554432: 2.9802322387695312e-08,\n",
       " 67108864: 1.4901161193847656e-08,\n",
       " 100000000: 1.4901161193847656e-08}"
      ]
     },
     "execution_count": 40,
     "metadata": {},
     "output_type": "execute_result"
    }
   ],
   "source": [
    "StP = st_pete(limit=10**8)\n",
    "StP"
   ]
  },
  {
   "cell_type": "markdown",
   "id": "d280de63",
   "metadata": {},
   "source": [
    "lets find the expected value of a probability distribution:"
   ]
  },
  {
   "cell_type": "code",
   "execution_count": 41,
   "id": "164f63af",
   "metadata": {},
   "outputs": [],
   "source": [
    "def EV(P):\n",
    "    \"The expected value of a probability distribution.\"\n",
    "    return sum(P[v] * v \n",
    "               for v in P)"
   ]
  },
  {
   "cell_type": "code",
   "execution_count": 42,
   "id": "881dee05",
   "metadata": {},
   "outputs": [
    {
     "data": {
      "text/plain": [
       "27.490116119384766"
      ]
     },
     "execution_count": 42,
     "metadata": {},
     "output_type": "execute_result"
    }
   ],
   "source": [
    "EV(StP)"
   ]
  },
  {
   "cell_type": "markdown",
   "id": "f4fcf2a3",
   "metadata": {},
   "source": [
    "This says that for a casino with a bankroll of 100 million dollars, if you want to maximize your expected value, you should be willing to pay up to $27.49 to play the game."
   ]
  },
  {
   "cell_type": "markdown",
   "id": "20455122",
   "metadata": {},
   "source": [
    "# Understanding St. Petersburg through Simulation"
   ]
  },
  {
   "cell_type": "markdown",
   "id": "7b143b55",
   "metadata": {},
   "source": [
    "I will run the simulation 100,000 times (with a random seed specified for reproducability) and make the results into a probability distribution:"
   ]
  },
  {
   "cell_type": "code",
   "execution_count": 49,
   "id": "2db7f85f",
   "metadata": {},
   "outputs": [
    {
     "name": "stdout",
     "output_type": "stream",
     "text": [
      "Payout: 2, Probability: 0.497550\n",
      "Payout: 4, Probability: 0.250600\n",
      "Payout: 8, Probability: 0.125900\n",
      "Payout: 16, Probability: 0.063220\n",
      "Payout: 32, Probability: 0.031510\n",
      "Payout: 64, Probability: 0.016070\n",
      "Payout: 128, Probability: 0.007510\n",
      "Payout: 256, Probability: 0.003700\n",
      "Payout: 512, Probability: 0.001910\n",
      "Payout: 1024, Probability: 0.001060\n",
      "Payout: 2048, Probability: 0.000450\n",
      "Payout: 4096, Probability: 0.000290\n",
      "Payout: 8192, Probability: 0.000100\n",
      "Payout: 16384, Probability: 0.000060\n",
      "Payout: 32768, Probability: 0.000050\n",
      "Payout: 65536, Probability: 0.000010\n",
      "Payout: 1048576, Probability: 0.000010\n"
     ]
    }
   ],
   "source": [
    "import random\n",
    "from collections import Counter\n",
    "\n",
    "# Flip a coin and return 'head' or 'tail'\n",
    "def flip():\n",
    "    return random.choice(('head', 'tail'))\n",
    "\n",
    "# Simulate one round of the St. Petersburg game\n",
    "def simulate_st_pete(limit=10**9):\n",
    "    pot = 2\n",
    "    while flip() == 'head':\n",
    "        pot *= 2\n",
    "        if pot > limit:\n",
    "            return limit\n",
    "    return pot\n",
    "\n",
    "# Set seed for reproducibility\n",
    "random.seed(123456)\n",
    "\n",
    "# Run the simulation 100,000 times and count results\n",
    "results_counter = Counter(simulate_st_pete() for _ in range(100000))\n",
    "\n",
    "# Convert counts to a probability distribution\n",
    "class ProbDist(dict):\n",
    "    def __init__(self, counter):\n",
    "        total = sum(counter.values())\n",
    "        for k, v in counter.items():\n",
    "            self[k] = v / total\n",
    "\n",
    "results = ProbDist(results_counter)\n",
    "\n",
    "# Example: print the sorted probability distribution\n",
    "for payout in sorted(results):\n",
    "    print(f\"Payout: {payout}, Probability: {results[payout]:.6f}\")\n"
   ]
  },
  {
   "cell_type": "code",
   "execution_count": 53,
   "id": "b6b2dbac",
   "metadata": {},
   "outputs": [
    {
     "name": "stdout",
     "output_type": "stream",
     "text": [
      "Expected Value (EV): 26.72\n"
     ]
    }
   ],
   "source": [
    "def EV(dist):\n",
    "    return sum(x * p for x, p in dist.items())\n",
    "\n",
    "# Expected Utility (EU)\n",
    "def EU(dist, util):\n",
    "    return sum(util(x) * p for x, p in dist.items())\n",
    "\n",
    "\n",
    "\n",
    "# Set seed and run simulation\n",
    "random.seed(123456)\n",
    "results = ProbDist(Counter(simulate_st_pete() for _ in range(100000)))\n",
    "\n",
    "# Calculate expected value and expected utility\n",
    "print(f\"Expected Value (EV): {EV(results):.2f}\")\n"
   ]
  },
  {
   "cell_type": "code",
   "execution_count": 57,
   "id": "fe3b245a",
   "metadata": {},
   "outputs": [
    {
     "data": {
      "image/png": "[encoded data removed]",
      "text/plain": [
       "<Figure size 1000x600 with 1 Axes>"
      ]
     },
     "metadata": {},
     "output_type": "display_data"
    }
   ],
   "source": [
    "\n",
    "import matplotlib.pyplot as plt\n",
    "\n",
    "# Already defined elsewhere:\n",
    "# simulate_st_pete\n",
    "# running_averages\n",
    "\n",
    "def running_averages(iterable):\n",
    "    \"For each element in the iterable, yield the mean of all elements seen so far.\" \n",
    "    total, n = 0, 0\n",
    "    for x in iterable:\n",
    "        total, n = total + x, n + 1\n",
    "        yield total / n\n",
    "\n",
    "def plot_running_averages(fn, n, label=None):\n",
    "    \"Plot the running average of calling the function n times.\"\n",
    "    data = list(running_averages(fn() for _ in range(n)))\n",
    "    plt.plot(data, label=label)\n",
    "\n",
    "# Set a reproducible seed\n",
    "random.seed(12345)\n",
    "\n",
    "# Plot multiple runs\n",
    "plt.figure(figsize=(10, 6))\n",
    "for i in range(10):\n",
    "    plot_running_averages(simulate_st_pete, 100000, label=f'Run {i+1}')\n",
    "\n",
    "plt.xlabel('Number of Simulations')\n",
    "plt.ylabel('Running Average of Payoff')\n",
    "plt.title('St. Petersburg Game: Running Averages')\n",
    "plt.legend(loc='upper left', fontsize='small', ncol=2)\n",
    "plt.grid(True)\n",
    "plt.tight_layout()\n",
    "plt.show()\n"
   ]
  }
 ],
 "metadata": {
  "kernelspec": {
   "display_name": "base",
   "language": "python",
   "name": "python3"
  },
  "language_info": {
   "codemirror_mode": {
    "name": "ipython",
    "version": 3
   },
   "file_extension": ".py",
   "mimetype": "text/x-python",
   "name": "python",
   "nbconvert_exporter": "python",
   "pygments_lexer": "ipython3",
   "version": "3.12.7"
  }
 },
 "nbformat": 4,
 "nbformat_minor": 5
}
