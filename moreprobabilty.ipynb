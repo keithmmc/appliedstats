{
 "cells": [
  {
   "cell_type": "markdown",
   "id": "ef3a8de0",
   "metadata": {},
   "source": [
    " Probability theory is nothing but common sense reduced to calculation. ... [Probability] is thus simply a fraction whose numerator is the number of favorable cases and whose denominator is the number of all the cases possible ... when nothing leads us to expect that any one of these cases should occur more than any other. "
   ]
  },
  {
   "cell_type": "markdown",
   "id": "baf0497f",
   "metadata": {},
   "source": [
    "To untangle a probability problem, all you have to do is define exactly what the cases are, and carefully count the favorable and total cases. Let's be clear on our vocabulary words:\n",
    "\n",
    "Trial: A single occurrence with an outcome that is uncertain until it happens.\n",
    "For example, rolling a single die.\n",
    "Outcome: A possible result of a trial; one particular state of the world. What Laplace calls a case.\n",
    "For example: the die comes up as 4.\n",
    "Sample Space: The set of all possible outcomes for the trial.\n",
    "For example, {1, 2, 3, 4, 5, 6}.\n",
    "Event: A subset of the sample space, a set of outcomes that together have some property we are interested in.\n",
    "For example, the event \"even die roll\" is the set of outcomes {2, 4, 6}.\n",
    "Probability: As Laplace said, the probability of an event with respect to a sample space is the \"number of favorable cases\" (outcomes from the sample space that are in the event) divided by the \"number of all the cases\" in the sample space, assuming \"nothing leads us to expect that any one of these cases should occur more than any other.\" Since this is a proper fraction, probability will always be a number between 0 (representing an impossible event) and 1 (representing a certain event).\n",
    "For example, the probability of an even die roll is 3/6 = 1/2.\n",
    "This notebook will explore these concepts in a concrete way using Python code. The code is meant to be succint and explicit, and fast enough to handle sample spaces with millions of outcomes. If you need to handle trillions, you'll want a more efficient implementation. I also have another notebook that covers paradoxes in Probability Theory."
   ]
  },
  {
   "cell_type": "code",
   "execution_count": 1,
   "id": "a498f5d5",
   "metadata": {},
   "outputs": [],
   "source": [
    "from fractions import Fraction \n",
    "from itertools import combinations, product\n",
    "from typing import *\n",
    "import math\n",
    "import random \n",
    "\n"
   ]
  },
  {
   "cell_type": "code",
   "execution_count": 2,
   "id": "c7b900b0",
   "metadata": {},
   "outputs": [],
   "source": [
    "Space = set # a simple space is a set of all possible outcomes \n",
    "Event = set # an event is a subset of the sample space \n"
   ]
  },
  {
   "cell_type": "markdown",
   "id": "df9ae906",
   "metadata": {},
   "source": [
    "# P is for Probability\n",
    "The code below implements Laplace's quote directly: Probability is thus simply a fraction whose numerator is the number of favorable cases and whose denominator is the number of all the cases possible"
   ]
  },
  {
   "cell_type": "code",
   "execution_count": 3,
   "id": "868f1ae2",
   "metadata": {},
   "outputs": [],
   "source": [
    "def P(event: Event, space: Space) -> Fraction:\n",
    "    \"\"\"The probability of an event, given a sample space:\n",
    "    the number of favorable cases divided by the number of all the cases possible.\"\"\"\n",
    "    return Fraction(number_cases(favorable(event, space)),\n",
    "                    number_cases(space))"
   ]
  },
  {
   "cell_type": "code",
   "execution_count": 4,
   "id": "146d8037",
   "metadata": {},
   "outputs": [],
   "source": [
    "favorable    = set.intersection # Favorable cases are in the event and also in the sample space\n",
    "number_cases = len              # The number of cases is the length, or size, of a set"
   ]
  },
  {
   "cell_type": "markdown",
   "id": "b29f2792",
   "metadata": {},
   "source": [
    "# Die Roll\n",
    "What's the probability of an even number with a single roll of a six-sided fair die?\n",
    "\n",
    "Mathematicians traditionally use a single capital letter to denote a sample space; I'll use D for the die:"
   ]
  },
  {
   "cell_type": "code",
   "execution_count": 5,
   "id": "56e36581",
   "metadata": {},
   "outputs": [],
   "source": [
    "D = {1, 2, 3, 4, 5, 6}"
   ]
  },
  {
   "cell_type": "markdown",
   "id": "7c276e72",
   "metadata": {},
   "source": [
    "then define the event of rolling an even number, and ask for the probability of that event:"
   ]
  },
  {
   "cell_type": "code",
   "execution_count": 6,
   "id": "d93ffd57",
   "metadata": {},
   "outputs": [
    {
     "data": {
      "text/plain": [
       "Fraction(1, 2)"
      ]
     },
     "execution_count": 6,
     "metadata": {},
     "output_type": "execute_result"
    }
   ],
   "source": [
    "even = {2, 4, 6} # the event of an even roll\n",
    "\n",
    "P(even, D)"
   ]
  },
  {
   "cell_type": "code",
   "execution_count": 7,
   "id": "0b932d1b",
   "metadata": {},
   "outputs": [],
   "source": [
    "odd = {1, 3, 5, 7, 9, 11, 13}"
   ]
  },
  {
   "cell_type": "code",
   "execution_count": 8,
   "id": "76355cad",
   "metadata": {},
   "outputs": [
    {
     "data": {
      "text/plain": [
       "Fraction(5, 6)"
      ]
     },
     "execution_count": 8,
     "metadata": {},
     "output_type": "execute_result"
    }
   ],
   "source": [
    "prime = {2, 3, 5, 7, 11, 13}\n",
    "\n",
    "P((even | prime), D) # The probability of an even or prime die roll"
   ]
  },
  {
   "cell_type": "code",
   "execution_count": 9,
   "id": "5381c42b",
   "metadata": {},
   "outputs": [
    {
     "data": {
      "text/plain": [
       "Fraction(1, 3)"
      ]
     },
     "execution_count": 9,
     "metadata": {},
     "output_type": "execute_result"
    }
   ],
   "source": [
    "P((odd & prime), D) # The probability of an odd prime die roll"
   ]
  },
  {
   "cell_type": "markdown",
   "id": "8f879f16",
   "metadata": {},
   "source": [
    "# Card Problems\n",
    "Consider a deck of playing cards. An individual card has a rank and suit, and will be represented as a string, like 'A♥' for the Ace of Hearts. There are 4 suits and 13 ranks, so there are 52 cards in a deck:"
   ]
  },
  {
   "cell_type": "code",
   "execution_count": null,
   "id": "0756d02b",
   "metadata": {},
   "outputs": [
    {
     "data": {
      "text/plain": [
       "52"
      ]
     },
     "execution_count": 10,
     "metadata": {},
     "output_type": "execute_result"
    }
   ],
   "source": [
    "suits = '♥♠♦♣'\n",
    "ranks = 'AKQJT98765432'\n",
    "deck = [r + s for r in ranks for s in suits]\n",
    "len(deck)"
   ]
  },
  {
   "cell_type": "markdown",
   "id": "6cdaaefc",
   "metadata": {},
   "source": [
    "lets define Hands as the sample space of all possible 5-card hands that could be dealt from a deck. The function itertools.combinations does most of the work; we then concatenate the combinations into space-separateds string using joins:"
   ]
  },
  {
   "cell_type": "code",
   "execution_count": 11,
   "id": "85de7e69",
   "metadata": {},
   "outputs": [
    {
     "data": {
      "text/plain": [
       "2598960"
      ]
     },
     "execution_count": 11,
     "metadata": {},
     "output_type": "execute_result"
    }
   ],
   "source": [
    "def joins(strings) -> Set[str]: return {' '. join(s) for s in strings} \n",
    "Hands = joins(combinations(deck, 5)) \n",
    "len(Hands)"
   ]
  },
  {
   "cell_type": "code",
   "execution_count": 12,
   "id": "15476e43",
   "metadata": {},
   "outputs": [
    {
     "data": {
      "text/plain": [
       "['K♥ J♠ 9♣ 6♠ 5♦',\n",
       " 'A♠ K♠ 9♦ 7♥ 7♦',\n",
       " 'Q♦ T♣ 8♠ 7♠ 5♥',\n",
       " '7♥ 7♦ 6♣ 4♦ 3♠',\n",
       " 'Q♠ 7♣ 5♥ 4♥ 2♣',\n",
       " 'A♣ J♣ T♠ 6♠ 2♦',\n",
       " 'A♥ Q♥ J♦ 7♥ 7♠']"
      ]
     },
     "execution_count": 12,
     "metadata": {},
     "output_type": "execute_result"
    }
   ],
   "source": [
    "random.sample(list(Hands), 7)"
   ]
  },
  {
   "cell_type": "markdown",
   "id": "470980bb",
   "metadata": {},
   "source": [
    "what is the probability of being dealt a flush (5 cards of the same suit): "
   ]
  },
  {
   "cell_type": "code",
   "execution_count": 13,
   "id": "f694d448",
   "metadata": {},
   "outputs": [
    {
     "data": {
      "text/plain": [
       "Fraction(33, 16660)"
      ]
     },
     "execution_count": 13,
     "metadata": {},
     "output_type": "execute_result"
    }
   ],
   "source": [
    "flush = {hand for hand in Hands if any(hand.count(suit) == 5 for suit in suits)} \n",
    "P(flush, Hands)"
   ]
  },
  {
   "cell_type": "markdown",
   "id": "7a4043f3",
   "metadata": {},
   "source": [
    "lets look at four of a kind"
   ]
  },
  {
   "cell_type": "code",
   "execution_count": 14,
   "id": "026595ed",
   "metadata": {},
   "outputs": [
    {
     "data": {
      "text/plain": [
       "Fraction(1, 4165)"
      ]
     },
     "execution_count": 14,
     "metadata": {},
     "output_type": "execute_result"
    }
   ],
   "source": [
    "four_kind = {hand for hand in Hands if any(hand.count(rank) == 4 for rank in ranks)}\n",
    "\n",
    "P(four_kind, Hands)"
   ]
  }
 ],
 "metadata": {
  "kernelspec": {
   "display_name": "base",
   "language": "python",
   "name": "python3"
  },
  "language_info": {
   "codemirror_mode": {
    "name": "ipython",
    "version": 3
   },
   "file_extension": ".py",
   "mimetype": "text/x-python",
   "name": "python",
   "nbconvert_exporter": "python",
   "pygments_lexer": "ipython3",
   "version": "3.12.7"
  }
 },
 "nbformat": 4,
 "nbformat_minor": 5
}
