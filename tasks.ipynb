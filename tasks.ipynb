{
 "cells": [
  {
   "cell_type": "markdown",
   "metadata": {},
   "source": [
    "# lady testing tea"
   ]
  },
  {
   "cell_type": "markdown",
   "metadata": {},
   "source": [
    "Purported to be loosely based on an event in Fisher's life, the experiment is based on a claim by a lady friend of Fisher's that when presented with a cup of tea she could that she could discern whether milk or tea was poured first into her cup. In the experiment the lady is presented with 8 cups of tea, four of which have the milk poured first and four of which have the tea poured first. Fisher's lady friend is then asked to select which cups have the milk poured first. The probability of the lady being able to select the four cups, with milk poured first, correctly is low enough that this outcome would be unlikely. Therefore, if over multiple runs of the experiment if the lady correctly selects the cups with milk poured in first, a statistical unlikelihood, the lady had the ability to discern the order in which tea and milk were poured in the cup.\n",
    "\n"
   ]
  },
  {
   "cell_type": "markdown",
   "metadata": {},
   "source": [
    "Problem Statement\n",
    "Suppose the Lady Tasting Tea experiment is altered to involve twelve cups of tea. Six have the milk in first and the other six having tea in first. A person claims that they have the special power of being able to tell if the tea or the milk went into a cup first upon tasting it. You agree to accept their claim if they can tell which of the six cups in your experiment had the milk in first.\n",
    "\n",
    "1. Calculate, using Python, the probability that they select the correct six cups.\n",
    "Suppose, now, you are willing to accept one error. Once they select the six cups they think had the milk in first, you will give them the benefit of the doubt should they have selected at least five of the correct cups.\n",
    "\n",
    "2. Calculate the probability, assuming they have no special powers, that the person makes at most one error.\n",
    "\n",
    "3. Would you accept two errors? Explain."
   ]
  },
  {
   "cell_type": "code",
   "execution_count": 66,
   "metadata": {},
   "outputs": [],
   "source": [
    "import math \n"
   ]
  },
  {
   "cell_type": "code",
   "execution_count": 67,
   "metadata": {},
   "outputs": [],
   "source": [
    "no_cups = 8 \n",
    "no_cups_milk_first = 4 \n",
    "no_cups_tea_first = 4 \n"
   ]
  },
  {
   "cell_type": "code",
   "execution_count": 68,
   "metadata": {},
   "outputs": [
    {
     "data": {
      "text/plain": [
       "70"
      ]
     },
     "execution_count": 68,
     "metadata": {},
     "output_type": "execute_result"
    }
   ],
   "source": [
    "ways = math.comb(no_cups, no_cups_milk_first)\n",
    "ways \n"
   ]
  },
  {
   "cell_type": "code",
   "execution_count": 69,
   "metadata": {},
   "outputs": [
    {
     "data": {
      "text/plain": [
       "1680"
      ]
     },
     "execution_count": 69,
     "metadata": {},
     "output_type": "execute_result"
    }
   ],
   "source": [
    "ways_ordered = 8 * 7 * 6 * 5 \n",
    "\n",
    "ways_ordered"
   ]
  },
  {
   "cell_type": "code",
   "execution_count": 70,
   "metadata": {},
   "outputs": [
    {
     "data": {
      "text/plain": [
       "24"
      ]
     },
     "execution_count": 70,
     "metadata": {},
     "output_type": "execute_result"
    }
   ],
   "source": [
    "no_shuffles = 4 * 3 * 2 * 1 \n",
    "no_shuffles"
   ]
  },
  {
   "cell_type": "code",
   "execution_count": 71,
   "metadata": {},
   "outputs": [
    {
     "data": {
      "text/plain": [
       "70"
      ]
     },
     "execution_count": 71,
     "metadata": {},
     "output_type": "execute_result"
    }
   ],
   "source": [
    "no_combs = ways_ordered // no_shuffles\n",
    "no_combs"
   ]
  },
  {
   "cell_type": "markdown",
   "metadata": {},
   "source": [
    "-------------------------------------"
   ]
  },
  {
   "cell_type": "code",
   "execution_count": 72,
   "metadata": {},
   "outputs": [],
   "source": [
    "import numpy as np \n",
    "from scipy.stats import fisher_exact "
   ]
  },
  {
   "cell_type": "code",
   "execution_count": 73,
   "metadata": {},
   "outputs": [],
   "source": [
    "cups_total = 8 \n",
    "cups_milk_first = 4 \n",
    "cups_tea_first = 4 "
   ]
  },
  {
   "cell_type": "code",
   "execution_count": 74,
   "metadata": {},
   "outputs": [],
   "source": [
    "np.random.seed(42)\n",
    "actual_cups = np.array([1]*cups_milk_first + [0]*cups_tea_first)\n",
    "np.random.shuffle(actual_cups) \n"
   ]
  },
  {
   "cell_type": "code",
   "execution_count": 75,
   "metadata": {},
   "outputs": [],
   "source": [
    "lady_guesses = np.array([1]*cups_milk_first + [0]*cups_tea_first)\n",
    "\n",
    "# Now we will count her correct guesses:\n",
    "# Number of true positives (correct milk first identification) and false positives\n",
    "true_positives = np.sum((actual_cups == 1) & (lady_guesses == 1))\n",
    "false_positives = np.sum((actual_cups == 0) & (lady_guesses == 1))\n",
    "\n",
    "# Create the contingency table\n",
    "# Table of the format [[True Positives, False Positives], [False Negatives, True Negatives]]\n",
    "contingency_table = np.array([[true_positives, false_positives], \n",
    "                              [cups_milk_first - true_positives, cups_tea_first - false_positives]])\n"
   ]
  },
  {
   "cell_type": "code",
   "execution_count": 76,
   "metadata": {},
   "outputs": [
    {
     "data": {
      "text/plain": [
       "(array([[2, 2],\n",
       "        [2, 2]]),\n",
       " 0.7571428571428571)"
      ]
     },
     "execution_count": 76,
     "metadata": {},
     "output_type": "execute_result"
    }
   ],
   "source": [
    "oddsratio, p_value = fisher_exact(contingency_table, alternative='greater')\n",
    "\n",
    "contingency_table, p_value"
   ]
  },
  {
   "cell_type": "markdown",
   "metadata": {},
   "source": [
    "----------------------------------------------------------------------------"
   ]
  },
  {
   "cell_type": "code",
   "execution_count": 77,
   "metadata": {},
   "outputs": [],
   "source": [
    "import numpy as np\n",
    "# A numpy random number generator\n",
    "rng = np.random.default_rng()\n",
    "\n",
    "import pandas as pd\n",
    "# Safe setting for Pandas.  Needs Pandas version >= 1.5.\n",
    "pd.set_option('mode.copy_on_write', True)\n",
    "\n",
    "# Load the library for plotting, name it 'plt'\n",
    "import matplotlib.pyplot as plt\n",
    "# Make plots look a little more fancy\n",
    "plt.style.use('fivethirtyeight')"
   ]
  },
  {
   "cell_type": "code",
   "execution_count": 78,
   "metadata": {},
   "outputs": [],
   "source": [
    "# Just run the code in this cell.\n",
    "# Make an empty DataFrame to store the eight cups.\n",
    "tea_df = pd.DataFrame()\n",
    "# insert a column that records whether Fisher had in fact poured the milk\n",
    "# before the tea, into that cup:\n",
    "tea_df['milk_first'] = np.repeat(['yes', 'no'], [4, 4])\n",
    "# Add a column recording which cups Muriel chose as her guesses for the\n",
    "# cups where Fisher had poured the milk first:\n",
    "tea_df['says_milk_first'] = np.repeat(['yes', 'no'], [4, 4])\n",
    "# Take a sample (without replacement) of 8 rows.\n",
    "# This has the effect of putting rows in random order.\n",
    "tea_df = tea_df.sample(8, replace=False)\n",
    "# Reset the row labels to throw away the labels showing the original order.\n",
    "tea_df = tea_df.reset_index(drop=True)"
   ]
  },
  {
   "cell_type": "code",
   "execution_count": 79,
   "metadata": {},
   "outputs": [
    {
     "data": {
      "text/html": [
       "<div>\n",
       "<style scoped>\n",
       "    .dataframe tbody tr th:only-of-type {\n",
       "        vertical-align: middle;\n",
       "    }\n",
       "\n",
       "    .dataframe tbody tr th {\n",
       "        vertical-align: top;\n",
       "    }\n",
       "\n",
       "    .dataframe thead th {\n",
       "        text-align: right;\n",
       "    }\n",
       "</style>\n",
       "<table border=\"1\" class=\"dataframe\">\n",
       "  <thead>\n",
       "    <tr style=\"text-align: right;\">\n",
       "      <th></th>\n",
       "      <th>milk_first</th>\n",
       "      <th>says_milk_first</th>\n",
       "    </tr>\n",
       "  </thead>\n",
       "  <tbody>\n",
       "    <tr>\n",
       "      <th>0</th>\n",
       "      <td>yes</td>\n",
       "      <td>yes</td>\n",
       "    </tr>\n",
       "    <tr>\n",
       "      <th>1</th>\n",
       "      <td>no</td>\n",
       "      <td>no</td>\n",
       "    </tr>\n",
       "    <tr>\n",
       "      <th>2</th>\n",
       "      <td>yes</td>\n",
       "      <td>yes</td>\n",
       "    </tr>\n",
       "    <tr>\n",
       "      <th>3</th>\n",
       "      <td>no</td>\n",
       "      <td>no</td>\n",
       "    </tr>\n",
       "    <tr>\n",
       "      <th>4</th>\n",
       "      <td>no</td>\n",
       "      <td>no</td>\n",
       "    </tr>\n",
       "    <tr>\n",
       "      <th>5</th>\n",
       "      <td>yes</td>\n",
       "      <td>yes</td>\n",
       "    </tr>\n",
       "    <tr>\n",
       "      <th>6</th>\n",
       "      <td>yes</td>\n",
       "      <td>yes</td>\n",
       "    </tr>\n",
       "    <tr>\n",
       "      <th>7</th>\n",
       "      <td>no</td>\n",
       "      <td>no</td>\n",
       "    </tr>\n",
       "  </tbody>\n",
       "</table>\n",
       "</div>"
      ],
      "text/plain": [
       "  milk_first says_milk_first\n",
       "0        yes             yes\n",
       "1         no              no\n",
       "2        yes             yes\n",
       "3         no              no\n",
       "4         no              no\n",
       "5        yes             yes\n",
       "6        yes             yes\n",
       "7         no              no"
      ]
     },
     "execution_count": 79,
     "metadata": {},
     "output_type": "execute_result"
    }
   ],
   "source": [
    "# Show our reconstruction of Fisher's table\n",
    "tea_df"
   ]
  },
  {
   "cell_type": "code",
   "execution_count": 80,
   "metadata": {},
   "outputs": [
    {
     "data": {
      "text/plain": [
       "0    yes\n",
       "1     no\n",
       "2    yes\n",
       "3     no\n",
       "4     no\n",
       "5    yes\n",
       "6    yes\n",
       "7     no\n",
       "Name: says_milk_first, dtype: object"
      ]
     },
     "execution_count": 80,
     "metadata": {},
     "output_type": "execute_result"
    }
   ],
   "source": [
    "milk_first = tea_df['milk_first']\n",
    "says_milk_first = tea_df['says_milk_first']\n",
    "says_milk_first"
   ]
  },
  {
   "cell_type": "code",
   "execution_count": 81,
   "metadata": {},
   "outputs": [
    {
     "data": {
      "text/html": [
       "<div>\n",
       "<style scoped>\n",
       "    .dataframe tbody tr th:only-of-type {\n",
       "        vertical-align: middle;\n",
       "    }\n",
       "\n",
       "    .dataframe tbody tr th {\n",
       "        vertical-align: top;\n",
       "    }\n",
       "\n",
       "    .dataframe thead th {\n",
       "        text-align: right;\n",
       "    }\n",
       "</style>\n",
       "<table border=\"1\" class=\"dataframe\">\n",
       "  <thead>\n",
       "    <tr style=\"text-align: right;\">\n",
       "      <th>says_milk_first</th>\n",
       "      <th>no</th>\n",
       "      <th>yes</th>\n",
       "    </tr>\n",
       "    <tr>\n",
       "      <th>milk_first</th>\n",
       "      <th></th>\n",
       "      <th></th>\n",
       "    </tr>\n",
       "  </thead>\n",
       "  <tbody>\n",
       "    <tr>\n",
       "      <th>no</th>\n",
       "      <td>4</td>\n",
       "      <td>0</td>\n",
       "    </tr>\n",
       "    <tr>\n",
       "      <th>yes</th>\n",
       "      <td>0</td>\n",
       "      <td>4</td>\n",
       "    </tr>\n",
       "  </tbody>\n",
       "</table>\n",
       "</div>"
      ],
      "text/plain": [
       "says_milk_first  no  yes\n",
       "milk_first              \n",
       "no                4    0\n",
       "yes               0    4"
      ]
     },
     "execution_count": 81,
     "metadata": {},
     "output_type": "execute_result"
    }
   ],
   "source": [
    "counts_tab = pd.crosstab(milk_first, says_milk_first)\n",
    "counts_tab"
   ]
  },
  {
   "cell_type": "code",
   "execution_count": 82,
   "metadata": {},
   "outputs": [
    {
     "data": {
      "text/plain": [
       "4"
      ]
     },
     "execution_count": 82,
     "metadata": {},
     "output_type": "execute_result"
    }
   ],
   "source": [
    "milk_first_correct = counts_tab.loc['yes', 'yes']\n",
    "milk_first_correct"
   ]
  },
  {
   "cell_type": "code",
   "execution_count": 83,
   "metadata": {},
   "outputs": [
    {
     "data": {
      "text/plain": [
       "array(['no', 'no', 'yes', 'yes', 'no', 'no', 'yes', 'yes'], dtype=object)"
      ]
     },
     "execution_count": 83,
     "metadata": {},
     "output_type": "execute_result"
    }
   ],
   "source": [
    "# Make the random association.\n",
    "fake_says = rng.permutation(says_milk_first)\n",
    "fake_says"
   ]
  },
  {
   "cell_type": "code",
   "execution_count": 84,
   "metadata": {},
   "outputs": [
    {
     "data": {
      "text/html": [
       "<div>\n",
       "<style scoped>\n",
       "    .dataframe tbody tr th:only-of-type {\n",
       "        vertical-align: middle;\n",
       "    }\n",
       "\n",
       "    .dataframe tbody tr th {\n",
       "        vertical-align: top;\n",
       "    }\n",
       "\n",
       "    .dataframe thead th {\n",
       "        text-align: right;\n",
       "    }\n",
       "</style>\n",
       "<table border=\"1\" class=\"dataframe\">\n",
       "  <thead>\n",
       "    <tr style=\"text-align: right;\">\n",
       "      <th>col_0</th>\n",
       "      <th>no</th>\n",
       "      <th>yes</th>\n",
       "    </tr>\n",
       "    <tr>\n",
       "      <th>milk_first</th>\n",
       "      <th></th>\n",
       "      <th></th>\n",
       "    </tr>\n",
       "  </thead>\n",
       "  <tbody>\n",
       "    <tr>\n",
       "      <th>no</th>\n",
       "      <td>2</td>\n",
       "      <td>2</td>\n",
       "    </tr>\n",
       "    <tr>\n",
       "      <th>yes</th>\n",
       "      <td>2</td>\n",
       "      <td>2</td>\n",
       "    </tr>\n",
       "  </tbody>\n",
       "</table>\n",
       "</div>"
      ],
      "text/plain": [
       "col_0       no  yes\n",
       "milk_first         \n",
       "no           2    2\n",
       "yes          2    2"
      ]
     },
     "execution_count": 84,
     "metadata": {},
     "output_type": "execute_result"
    }
   ],
   "source": [
    "fake_counts_tab = pd.crosstab(milk_first, fake_says)\n",
    "fake_counts_tab"
   ]
  },
  {
   "cell_type": "code",
   "execution_count": 85,
   "metadata": {},
   "outputs": [
    {
     "data": {
      "text/plain": [
       "2"
      ]
     },
     "execution_count": 85,
     "metadata": {},
     "output_type": "execute_result"
    }
   ],
   "source": [
    "fake_mf_correct = fake_counts_tab.loc['yes', 'yes']\n",
    "fake_mf_correct"
   ]
  },
  {
   "cell_type": "code",
   "execution_count": 86,
   "metadata": {},
   "outputs": [
    {
     "data": {
      "text/plain": [
       "array([2., 2., 2., 2., 3., 2., 2., 3., 2., 2.])"
      ]
     },
     "execution_count": 86,
     "metadata": {},
     "output_type": "execute_result"
    }
   ],
   "source": [
    "# Notice we're only using 1000 iterations, not our usual 10_000\n",
    "# This is to save some time; the crosstab is a little slow.\n",
    "n_iters = 1000\n",
    "fake_mf_corrects = np.zeros(n_iters)\n",
    "for i in np.arange(n_iters):\n",
    "    fake_says = rng.permutation(says_milk_first)\n",
    "    fake_counts_tab = pd.crosstab(milk_first, fake_says)\n",
    "    fake_mf_correct = fake_counts_tab.loc['yes', 'yes']\n",
    "    fake_mf_corrects[i] = fake_mf_correct\n",
    "fake_mf_corrects[:10]"
   ]
  },
  {
   "cell_type": "code",
   "execution_count": 87,
   "metadata": {},
   "outputs": [
    {
     "data": {
      "image/png": "[encoded data removed]",
      "text/plain": [
       "<Figure size 640x480 with 1 Axes>"
      ]
     },
     "metadata": {},
     "output_type": "display_data"
    }
   ],
   "source": [
    "plt.hist(fake_mf_corrects, bins=np.arange(5));\n",
    "plt.title('Sampling distribution of yes, yes counts');"
   ]
  },
  {
   "cell_type": "code",
   "execution_count": 88,
   "metadata": {},
   "outputs": [
    {
     "data": {
      "text/plain": [
       "0.015"
      ]
     },
     "execution_count": 88,
     "metadata": {},
     "output_type": "execute_result"
    }
   ],
   "source": [
    "np.count_nonzero(fake_mf_corrects == 4) / n_iters"
   ]
  },
  {
   "cell_type": "code",
   "execution_count": 89,
   "metadata": {},
   "outputs": [
    {
     "data": {
      "text/plain": [
       "0.014285714285714285"
      ]
     },
     "execution_count": 89,
     "metadata": {},
     "output_type": "execute_result"
    }
   ],
   "source": [
    "# Probability that Muriel will select all 4 milk-first cups\n",
    "# correctly if she is just guessing.\n",
    "4 / 8 * 3 / 7 * 2 / 6 * 1 / 5"
   ]
  },
  {
   "cell_type": "code",
   "execution_count": 90,
   "metadata": {},
   "outputs": [],
   "source": [
    "# Get stats module from Scipy.\n",
    "import scipy.stats as sps"
   ]
  },
  {
   "cell_type": "code",
   "execution_count": 91,
   "metadata": {},
   "outputs": [
    {
     "data": {
      "text/plain": [
       "0.014285714285714284"
      ]
     },
     "execution_count": 91,
     "metadata": {},
     "output_type": "execute_result"
    }
   ],
   "source": [
    "# Calculate Fisher's Exact Test p-value\n",
    "odds_ratio, p_value = sps.fisher_exact(counts_tab,\n",
    "                                       alternative='greater')\n",
    "p_value"
   ]
  },
  {
   "cell_type": "markdown",
   "metadata": {},
   "source": [
    "------------------------------------------------------------------------------"
   ]
  },
  {
   "cell_type": "code",
   "execution_count": 92,
   "metadata": {},
   "outputs": [
    {
     "name": "stdout",
     "output_type": "stream",
     "text": [
      "The total number of permutations for 12 cups is 479001600.\n"
     ]
    }
   ],
   "source": [
    "total_no_cups = 12\n",
    "no_of_cups_selected = 6\n",
    "\n",
    "# Define a function to return the factorial of an int\n",
    "def fact(num):\n",
    "    factorial = 1\n",
    "    for i in range(1, num + 1):\n",
    "        factorial *= i\n",
    "    return factorial\n",
    "\n",
    "perms_total = fact(total_no_cups)\n",
    "print(f'The total number of permutations for {total_no_cups} cups is {perms_total}.')\n",
    "\n",
    "    "
   ]
  },
  {
   "cell_type": "code",
   "execution_count": 93,
   "metadata": {},
   "outputs": [
    {
     "name": "stdout",
     "output_type": "stream",
     "text": [
      "The total number of combinations for 6 cups is 720.\n"
     ]
    }
   ],
   "source": [
    "combs_total = fact(no_of_cups_selected)\n",
    "print(f'The total number of combinations for {no_of_cups_selected} cups is {combs_total}.')\n",
    "\n"
   ]
  },
  {
   "cell_type": "code",
   "execution_count": 94,
   "metadata": {},
   "outputs": [
    {
     "name": "stdout",
     "output_type": "stream",
     "text": [
      "The chance of selecting the six milk-first cups out of the twelve is a 1 in 924 chance.\n"
     ]
    }
   ],
   "source": [
    "# Calculate the binomial coefficient for choosing 6 out of 12 (12C6)\n",
    "# Manual calculation for combinations: 12*11*10*9*8*7 / 6!\n",
    "ans = perms_total // (combs_total * fact(total_no_cups - no_of_cups_selected))\n",
    "print(f'The chance of selecting the six milk-first cups out of the twelve is a 1 in {ans} chance.')\n"
   ]
  },
  {
   "cell_type": "code",
   "execution_count": 95,
   "metadata": {},
   "outputs": [
    {
     "name": "stdout",
     "output_type": "stream",
     "text": [
      "Your manually calculated solution is correct.\n"
     ]
    }
   ],
   "source": [
    "ans_2 = math.comb(total_no_cups, no_of_cups_selected)\n",
    "\n",
    "if ans == ans_2:\n",
    "    print('Your manually calculated solution is correct.')\n",
    "else:\n",
    "    print('Your manually calculated solution is incorrect.')\n"
   ]
  },
  {
   "cell_type": "code",
   "execution_count": 96,
   "metadata": {},
   "outputs": [
    {
     "name": "stdout",
     "output_type": "stream",
     "text": [
      "\n",
      "The probability of the lady guessing the correct cups by chance is 0.00108.\n"
     ]
    }
   ],
   "source": [
    "probability_under_null_hypothesis = 1 / ans\n",
    "print(f'\\nThe probability of the lady guessing the correct cups by chance is {probability_under_null_hypothesis:.5f}.')\n",
    "\n"
   ]
  },
  {
   "cell_type": "code",
   "execution_count": 97,
   "metadata": {},
   "outputs": [],
   "source": [
    "observed_successes = 4  # let's assume the lady correctly identified 4 out of 6 cups\n",
    "max_errors_allowed = 2  # allowing up to 2 errors\n"
   ]
  },
  {
   "cell_type": "code",
   "execution_count": 98,
   "metadata": {},
   "outputs": [
    {
     "name": "stdout",
     "output_type": "stream",
     "text": [
      "\n",
      "The lady made 2 errors, but this is within the acceptable range.\n",
      "The result suggests she might have some ability to distinguish the cups.\n"
     ]
    }
   ],
   "source": [
    "if observed_successes >= (no_of_cups_selected - max_errors_allowed):\n",
    "    print(f'\\nThe lady made {no_of_cups_selected - observed_successes} errors, but this is within the acceptable range.')\n",
    "    print('The result suggests she might have some ability to distinguish the cups.')\n",
    "else:\n",
    "    print(f'\\nThe lady made {no_of_cups_selected - observed_successes} errors, which is beyond the acceptable range.')\n",
    "    print('This result suggests she might be guessing.')"
   ]
  },
  {
   "cell_type": "code",
   "execution_count": 99,
   "metadata": {},
   "outputs": [
    {
     "name": "stdout",
     "output_type": "stream",
     "text": [
      "   Total Cups  Cups Selected  Max Errors Allowed  Observed Successes  \\\n",
      "0          12              6                   2                   6   \n",
      "1          12              6                   2                   5   \n",
      "2          12              6                   2                   4   \n",
      "3          12              6                   2                   3   \n",
      "4          12              6                   2                   2   \n",
      "\n",
      "   Errors Made Null Hypothesis Rejected  \n",
      "0            0                      Yes  \n",
      "1            1                      Yes  \n",
      "2            2                      Yes  \n",
      "3            3                       No  \n",
      "4            4                       No  \n"
     ]
    }
   ],
   "source": [
    "observed_successes = [6, 5, 4, 3, 2]  # For example, testing with different observed results\n",
    "\n",
    "# Create a results list for DataFrame\n",
    "results = []\n",
    "\n",
    "# Populate the results based on observed successes\n",
    "for success in observed_successes:\n",
    "    errors_made = no_of_cups_selected - success\n",
    "    accepted = \"Yes\" if success >= (no_of_cups_selected - max_errors_allowed) else \"No\"\n",
    "    results.append({\n",
    "        'Total Cups': total_no_cups,\n",
    "        'Cups Selected': no_of_cups_selected,\n",
    "        'Max Errors Allowed': max_errors_allowed,\n",
    "        'Observed Successes': success,\n",
    "        'Errors Made': errors_made,\n",
    "        'Null Hypothesis Rejected': accepted\n",
    "    })\n",
    "\n",
    "# Create a pandas DataFrame\n",
    "df = pd.DataFrame(results)\n",
    "\n",
    "# Display the DataFrame\n",
    "print(df)"
   ]
  },
  {
   "cell_type": "markdown",
   "metadata": {},
   "source": [
    "1. If the lady correctly identifies 4, 5, or 6 cups, the test will suggest she has some ability to distinguish between the cups, even though she made up to two errors.\n",
    "2. If she identifies fewer than 4 correctly, the test suggests her performance is indistinguishable from random guessing."
   ]
  },
  {
   "cell_type": "markdown",
   "metadata": {},
   "source": [
    "plotting the breakdown of guesses "
   ]
  },
  {
   "cell_type": "code",
   "execution_count": 100,
   "metadata": {},
   "outputs": [
    {
     "data": {
      "image/png": "[encoded data removed]",
      "text/plain": [
       "<Figure size 1000x600 with 1 Axes>"
      ]
     },
     "metadata": {},
     "output_type": "display_data"
    }
   ],
   "source": [
    "plt.figure(figsize=(10, 6))\n",
    "\n",
    "# Plot the observed successes\n",
    "colors = ['green' if x == 'Yes' else 'red' for x in df['Null Hypothesis Rejected']]\n",
    "plt.bar(df['Observed Successes'], df['Errors Made'], color=colors, alpha=0.7)\n",
    "\n",
    "# Add labels and title\n",
    "plt.xlabel('Observed Successes (Correct Identifications)', fontsize=14)\n",
    "plt.ylabel('Errors Made', fontsize=14)\n",
    "plt.title('Lady Tasting Tea: Observed Successes vs. Null Hypothesis Decision', fontsize=16)\n",
    "\n",
    "# Add legend\n",
    "plt.text(5.5, 2.2, 'Green = Reject H₀\\nRed = Fail to Reject H₀', fontsize=12, color='black')\n",
    "\n",
    "# Customize the x-axis ticks\n",
    "plt.xticks(df['Observed Successes'])\n",
    "\n",
    "# Show the plot\n",
    "plt.show()"
   ]
  },
  {
   "cell_type": "markdown",
   "metadata": {},
   "source": [
    "# Why Allow Two Errors:\n",
    "1. Human Imperfection: It gives some allowance for occasional mistakes, as even someone with the ability to tell the difference may not perform perfectly every time.\n",
    "2. Confidence Level: By allowing up to two errors, you're likely increasing the confidence level of the test, striking a balance between rejecting the Null Hypothesis too easily (Type I error) and failing to detect real skill (Type II error)."
   ]
  }
 ],
 "metadata": {
  "kernelspec": {
   "display_name": "base",
   "language": "python",
   "name": "python3"
  },
  "language_info": {
   "codemirror_mode": {
    "name": "ipython",
    "version": 3
   },
   "file_extension": ".py",
   "mimetype": "text/x-python",
   "name": "python",
   "nbconvert_exporter": "python",
   "pygments_lexer": "ipython3",
   "version": "3.11.5"
  }
 },
 "nbformat": 4,
 "nbformat_minor": 2
}
