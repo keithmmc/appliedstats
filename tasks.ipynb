{
 "cells": [
  {
   "cell_type": "markdown",
   "metadata": {},
   "source": [
    "# lady testing tea"
   ]
  },
  {
   "cell_type": "code",
   "execution_count": 1,
   "metadata": {},
   "outputs": [],
   "source": [
    "import math \n"
   ]
  },
  {
   "cell_type": "code",
   "execution_count": 2,
   "metadata": {},
   "outputs": [],
   "source": [
    "no_cups = 8 \n",
    "no_cups_milk_first = 4 \n",
    "no_cups_tea_first = 4 \n"
   ]
  },
  {
   "cell_type": "code",
   "execution_count": 3,
   "metadata": {},
   "outputs": [
    {
     "data": {
      "text/plain": [
       "70"
      ]
     },
     "execution_count": 3,
     "metadata": {},
     "output_type": "execute_result"
    }
   ],
   "source": [
    "ways = math.comb(no_cups, no_cups_milk_first)\n",
    "ways \n"
   ]
  },
  {
   "cell_type": "code",
   "execution_count": 4,
   "metadata": {},
   "outputs": [
    {
     "data": {
      "text/plain": [
       "1680"
      ]
     },
     "execution_count": 4,
     "metadata": {},
     "output_type": "execute_result"
    }
   ],
   "source": [
    "ways_ordered = 8 * 7 * 6 * 5 \n",
    "\n",
    "ways_ordered"
   ]
  },
  {
   "cell_type": "code",
   "execution_count": 5,
   "metadata": {},
   "outputs": [
    {
     "data": {
      "text/plain": [
       "24"
      ]
     },
     "execution_count": 5,
     "metadata": {},
     "output_type": "execute_result"
    }
   ],
   "source": [
    "no_shuffles = 4 * 3 * 2 * 1 \n",
    "no_shuffles"
   ]
  },
  {
   "cell_type": "code",
   "execution_count": 6,
   "metadata": {},
   "outputs": [
    {
     "data": {
      "text/plain": [
       "70"
      ]
     },
     "execution_count": 6,
     "metadata": {},
     "output_type": "execute_result"
    }
   ],
   "source": [
    "no_combs = ways_ordered // no_shuffles\n",
    "no_combs"
   ]
  },
  {
   "cell_type": "markdown",
   "metadata": {},
   "source": [
    "-------------------------------------"
   ]
  },
  {
   "cell_type": "code",
   "execution_count": 7,
   "metadata": {},
   "outputs": [],
   "source": [
    "import numpy as np \n",
    "from scipy.stats import fisher_exact "
   ]
  },
  {
   "cell_type": "code",
   "execution_count": 9,
   "metadata": {},
   "outputs": [],
   "source": [
    "cups_total = 8 \n",
    "cups_milk_first = 4 \n",
    "cups_tea_first = 4 "
   ]
  },
  {
   "cell_type": "code",
   "execution_count": 10,
   "metadata": {},
   "outputs": [],
   "source": [
    "np.random.seed(42)\n",
    "actual_cups = np.array([1]*cups_milk_first + [0]*cups_tea_first)\n",
    "np.random.shuffle(actual_cups) \n"
   ]
  },
  {
   "cell_type": "code",
   "execution_count": 11,
   "metadata": {},
   "outputs": [],
   "source": [
    "lady_guesses = np.array([1]*cups_milk_first + [0]*cups_tea_first)\n",
    "\n",
    "# Now we will count her correct guesses:\n",
    "# Number of true positives (correct milk first identification) and false positives\n",
    "true_positives = np.sum((actual_cups == 1) & (lady_guesses == 1))\n",
    "false_positives = np.sum((actual_cups == 0) & (lady_guesses == 1))\n",
    "\n",
    "# Create the contingency table\n",
    "# Table of the format [[True Positives, False Positives], [False Negatives, True Negatives]]\n",
    "contingency_table = np.array([[true_positives, false_positives], \n",
    "                              [cups_milk_first - true_positives, cups_tea_first - false_positives]])\n"
   ]
  },
  {
   "cell_type": "code",
   "execution_count": 12,
   "metadata": {},
   "outputs": [
    {
     "data": {
      "text/plain": [
       "(array([[2, 2],\n",
       "        [2, 2]]),\n",
       " 0.7571428571428571)"
      ]
     },
     "execution_count": 12,
     "metadata": {},
     "output_type": "execute_result"
    }
   ],
   "source": [
    "oddsratio, p_value = fisher_exact(contingency_table, alternative='greater')\n",
    "\n",
    "contingency_table, p_value"
   ]
  }
 ],
 "metadata": {
  "kernelspec": {
   "display_name": "base",
   "language": "python",
   "name": "python3"
  },
  "language_info": {
   "codemirror_mode": {
    "name": "ipython",
    "version": 3
   },
   "file_extension": ".py",
   "mimetype": "text/x-python",
   "name": "python",
   "nbconvert_exporter": "python",
   "pygments_lexer": "ipython3",
   "version": "3.11.5"
  }
 },
 "nbformat": 4,
 "nbformat_minor": 2
}
