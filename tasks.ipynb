{
 "cells": [
  {
   "cell_type": "markdown",
   "metadata": {},
   "source": [
    "# lady testing tea"
   ]
  },
  {
   "cell_type": "markdown",
   "metadata": {},
   "source": [
    "Purported to be loosely based on an event in Fisher's life, the experiment is based on a claim by a lady friend of Fisher's that when presented with a cup of tea she could that she could discern whether milk or tea was poured first into her cup. In the experiment the lady is presented with 8 cups of tea, four of which have the milk poured first and four of which have the tea poured first. Fisher's lady friend is then asked to select which cups have the milk poured first. The probability of the lady being able to select the four cups, with milk poured first, correctly is low enough that this outcome would be unlikely. Therefore, if over multiple runs of the experiment if the lady correctly selects the cups with milk poured in first, a statistical unlikelihood, the lady had the ability to discern the order in which tea and milk were poured in the cup.\n",
    "\n"
   ]
  },
  {
   "cell_type": "markdown",
   "metadata": {},
   "source": [
    "Problem Statement\n",
    "Suppose the Lady Tasting Tea experiment is altered to involve twelve cups of tea. Six have the milk in first and the other six having tea in first. A person claims that they have the special power of being able to tell if the tea or the milk went into a cup first upon tasting it. You agree to accept their claim if they can tell which of the six cups in your experiment had the milk in first.\n",
    "\n",
    "1. Calculate, using Python, the probability that they select the correct six cups.\n",
    "Suppose, now, you are willing to accept one error. Once they select the six cups they think had the milk in first, you will give them the benefit of the doubt should they have selected at least five of the correct cups.\n",
    "\n",
    "2. Calculate the probability, assuming they have no special powers, that the person makes at most one error.\n",
    "\n",
    "3. Would you accept two errors? Explain."
   ]
  },
  {
   "cell_type": "code",
   "execution_count": 50,
   "metadata": {},
   "outputs": [],
   "source": [
    "import pandas as pd \n",
    "import matplotlib.pyplot as plt \n",
    "import math "
   ]
  },
  {
   "cell_type": "code",
   "execution_count": 51,
   "metadata": {},
   "outputs": [],
   "source": [
    "total_no_cups = 12  #total number of cups \n",
    "milk_cups = 6 #cups with milk \n",
    "tea_cups = 6 #cups with tea first "
   ]
  },
  {
   "cell_type": "code",
   "execution_count": 52,
   "metadata": {},
   "outputs": [],
   "source": [
    "# Define the observed successes for both scenarios: milk-first and milk-second\n",
    "observed_successes_milk_first = [6, 5, 4, 3, 2, 1, 0]\n",
    "observed_successes_milk_second = [6, 5, 4, 3, 2, 1, 0]\n"
   ]
  },
  {
   "cell_type": "markdown",
   "metadata": {},
   "source": [
    "now that we the basic layout for our test I want to create a function to get show the results and store the results in a pandas dataframe "
   ]
  },
  {
   "cell_type": "code",
   "execution_count": 53,
   "metadata": {},
   "outputs": [],
   "source": [
    "# Step 3: Define a function to compute results\n",
    "def compute_results(observed_successes, milk_cups, tea_cups, scenario):\n",
    "    results = []\n",
    "    comb_total = math.comb(total_no_cups, milk_cups)  # Total combinations for 6 out of 12 cups\n",
    "\n",
    "    for success in observed_successes:\n",
    "        errors_made = milk_cups - success\n",
    "        \n",
    "        # Permutations for correct identifications: P(k, k) = k!\n",
    "        perms_correct = math.factorial(success) if success > 0 else 1\n",
    "        \n",
    "        # Probability: calculate 1 / comb_total to find the chance of randomly getting the right cups\n",
    "        probability = perms_correct / comb_total\n",
    "        \n",
    "        # Add results to the list\n",
    "        results.append({\n",
    "            'Scenario': scenario,\n",
    "            'Observed Successes': success,\n",
    "            'Errors Made': errors_made,\n",
    "            'Combinations': comb_total,\n",
    "            'Permutations (Correct)': perms_correct,\n",
    "            'Probability': probability\n",
    "        })\n",
    "    return results\n"
   ]
  },
  {
   "cell_type": "code",
   "execution_count": 54,
   "metadata": {},
   "outputs": [
    {
     "data": {
      "text/html": [
       "<div>\n",
       "<style scoped>\n",
       "    .dataframe tbody tr th:only-of-type {\n",
       "        vertical-align: middle;\n",
       "    }\n",
       "\n",
       "    .dataframe tbody tr th {\n",
       "        vertical-align: top;\n",
       "    }\n",
       "\n",
       "    .dataframe thead th {\n",
       "        text-align: right;\n",
       "    }\n",
       "</style>\n",
       "<table border=\"1\" class=\"dataframe\">\n",
       "  <thead>\n",
       "    <tr style=\"text-align: right;\">\n",
       "      <th></th>\n",
       "      <th>Scenario</th>\n",
       "      <th>Observed Successes</th>\n",
       "      <th>Errors Made</th>\n",
       "      <th>Combinations</th>\n",
       "      <th>Permutations (Correct)</th>\n",
       "      <th>Probability</th>\n",
       "    </tr>\n",
       "  </thead>\n",
       "  <tbody>\n",
       "    <tr>\n",
       "      <th>0</th>\n",
       "      <td>Milk First</td>\n",
       "      <td>6</td>\n",
       "      <td>0</td>\n",
       "      <td>924</td>\n",
       "      <td>720</td>\n",
       "      <td>0.779221</td>\n",
       "    </tr>\n",
       "    <tr>\n",
       "      <th>1</th>\n",
       "      <td>Milk First</td>\n",
       "      <td>5</td>\n",
       "      <td>1</td>\n",
       "      <td>924</td>\n",
       "      <td>120</td>\n",
       "      <td>0.129870</td>\n",
       "    </tr>\n",
       "    <tr>\n",
       "      <th>2</th>\n",
       "      <td>Milk First</td>\n",
       "      <td>4</td>\n",
       "      <td>2</td>\n",
       "      <td>924</td>\n",
       "      <td>24</td>\n",
       "      <td>0.025974</td>\n",
       "    </tr>\n",
       "    <tr>\n",
       "      <th>3</th>\n",
       "      <td>Milk First</td>\n",
       "      <td>3</td>\n",
       "      <td>3</td>\n",
       "      <td>924</td>\n",
       "      <td>6</td>\n",
       "      <td>0.006494</td>\n",
       "    </tr>\n",
       "    <tr>\n",
       "      <th>4</th>\n",
       "      <td>Milk First</td>\n",
       "      <td>2</td>\n",
       "      <td>4</td>\n",
       "      <td>924</td>\n",
       "      <td>2</td>\n",
       "      <td>0.002165</td>\n",
       "    </tr>\n",
       "    <tr>\n",
       "      <th>5</th>\n",
       "      <td>Milk First</td>\n",
       "      <td>1</td>\n",
       "      <td>5</td>\n",
       "      <td>924</td>\n",
       "      <td>1</td>\n",
       "      <td>0.001082</td>\n",
       "    </tr>\n",
       "    <tr>\n",
       "      <th>6</th>\n",
       "      <td>Milk First</td>\n",
       "      <td>0</td>\n",
       "      <td>6</td>\n",
       "      <td>924</td>\n",
       "      <td>1</td>\n",
       "      <td>0.001082</td>\n",
       "    </tr>\n",
       "    <tr>\n",
       "      <th>7</th>\n",
       "      <td>Milk Second</td>\n",
       "      <td>6</td>\n",
       "      <td>0</td>\n",
       "      <td>924</td>\n",
       "      <td>720</td>\n",
       "      <td>0.779221</td>\n",
       "    </tr>\n",
       "    <tr>\n",
       "      <th>8</th>\n",
       "      <td>Milk Second</td>\n",
       "      <td>5</td>\n",
       "      <td>1</td>\n",
       "      <td>924</td>\n",
       "      <td>120</td>\n",
       "      <td>0.129870</td>\n",
       "    </tr>\n",
       "    <tr>\n",
       "      <th>9</th>\n",
       "      <td>Milk Second</td>\n",
       "      <td>4</td>\n",
       "      <td>2</td>\n",
       "      <td>924</td>\n",
       "      <td>24</td>\n",
       "      <td>0.025974</td>\n",
       "    </tr>\n",
       "    <tr>\n",
       "      <th>10</th>\n",
       "      <td>Milk Second</td>\n",
       "      <td>3</td>\n",
       "      <td>3</td>\n",
       "      <td>924</td>\n",
       "      <td>6</td>\n",
       "      <td>0.006494</td>\n",
       "    </tr>\n",
       "    <tr>\n",
       "      <th>11</th>\n",
       "      <td>Milk Second</td>\n",
       "      <td>2</td>\n",
       "      <td>4</td>\n",
       "      <td>924</td>\n",
       "      <td>2</td>\n",
       "      <td>0.002165</td>\n",
       "    </tr>\n",
       "    <tr>\n",
       "      <th>12</th>\n",
       "      <td>Milk Second</td>\n",
       "      <td>1</td>\n",
       "      <td>5</td>\n",
       "      <td>924</td>\n",
       "      <td>1</td>\n",
       "      <td>0.001082</td>\n",
       "    </tr>\n",
       "    <tr>\n",
       "      <th>13</th>\n",
       "      <td>Milk Second</td>\n",
       "      <td>0</td>\n",
       "      <td>6</td>\n",
       "      <td>924</td>\n",
       "      <td>1</td>\n",
       "      <td>0.001082</td>\n",
       "    </tr>\n",
       "  </tbody>\n",
       "</table>\n",
       "</div>"
      ],
      "text/plain": [
       "       Scenario  Observed Successes  Errors Made  Combinations  \\\n",
       "0    Milk First                   6            0           924   \n",
       "1    Milk First                   5            1           924   \n",
       "2    Milk First                   4            2           924   \n",
       "3    Milk First                   3            3           924   \n",
       "4    Milk First                   2            4           924   \n",
       "5    Milk First                   1            5           924   \n",
       "6    Milk First                   0            6           924   \n",
       "7   Milk Second                   6            0           924   \n",
       "8   Milk Second                   5            1           924   \n",
       "9   Milk Second                   4            2           924   \n",
       "10  Milk Second                   3            3           924   \n",
       "11  Milk Second                   2            4           924   \n",
       "12  Milk Second                   1            5           924   \n",
       "13  Milk Second                   0            6           924   \n",
       "\n",
       "    Permutations (Correct)  Probability  \n",
       "0                      720     0.779221  \n",
       "1                      120     0.129870  \n",
       "2                       24     0.025974  \n",
       "3                        6     0.006494  \n",
       "4                        2     0.002165  \n",
       "5                        1     0.001082  \n",
       "6                        1     0.001082  \n",
       "7                      720     0.779221  \n",
       "8                      120     0.129870  \n",
       "9                       24     0.025974  \n",
       "10                       6     0.006494  \n",
       "11                       2     0.002165  \n",
       "12                       1     0.001082  \n",
       "13                       1     0.001082  "
      ]
     },
     "execution_count": 54,
     "metadata": {},
     "output_type": "execute_result"
    }
   ],
   "source": [
    "# Step 4: Compute results for both scenarios\n",
    "results_milk_first = compute_results(observed_successes_milk_first, milk_cups, tea_cups, \"Milk First\")\n",
    "results_milk_second = compute_results(observed_successes_milk_second, milk_cups, tea_cups, \"Milk Second\")\n",
    "\n",
    "# Combine both scenarios into a single DataFrame\n",
    "df = pd.DataFrame(results_milk_first + results_milk_second)\n",
    "\n",
    "# Display the DataFrame\n",
    "df\n"
   ]
  },
  {
   "cell_type": "markdown",
   "metadata": {},
   "source": [
    "# Hyptothesis testing \n",
    "\n",
    "The process of induction is the process of assuming the simplest law that can be made to harmonize with our experience. This process, however, has no logical foundation but only a psychological one. It is clear that there are no grounds for believing that the simplest course of events will really happen. It is an hypothesis that the sun will rise tomorrow: and this means that we do not know whether it will rise.\n",
    "\n",
    "– Ludwig Wittgenstein "
   ]
  },
  {
   "cell_type": "markdown",
   "metadata": {},
   "source": [
    "when looking at null hypothesis we again need to revisit Fisher, Fisher suggested that a significance level of 0.05 (or 5%) was a reasonable criterion for rejecting the null hypothesis in many cases. His work set the standard for hypothesis testing, and it has been widely adopted ever since so we will use this here. In this task the goal is to assess whether the lady can correctly distinguish the cups. The significance level of 0.05 provides a balance between being too strict (which might overlook her ability) and too lenient (which might falsely suggest she has the ability). If the probability of her success is less than 5%, we conclude that her correct guesses are unlikely to have been due to random chance, and we reject the null hypothesis."
   ]
  },
  {
   "cell_type": "code",
   "execution_count": 55,
   "metadata": {},
   "outputs": [
    {
     "name": "stdout",
     "output_type": "stream",
     "text": [
      "Null Hypothesis Rejected: The lady has successfully distinguished between milk-first and tea-first cups.\n"
     ]
    }
   ],
   "source": [
    "# Null Hypothesis: The lady cannot distinguish between cups with milk first and tea first.\n",
    "# We reject the null hypothesis if the probability of success is low enough (e.g., below a certain significance level)\n",
    "significance_level = 0.05 \n",
    "rejected_null = df[df['Probability']<= significance_level]\n",
    "if not rejected_null.empty:\n",
    "    print(\"Null Hypothesis Rejected: The lady has successfully distinguished between milk-first and tea-first cups.\")\n",
    "else:\n",
    "    print(\"Null Hypothesis Not Rejected: The lady has not distinguished between milk-first and tea-first cups.\")\n"
   ]
  },
  {
   "cell_type": "markdown",
   "metadata": {},
   "source": [
    "# other possible ways to create this test?? \n",
    "\n",
    "When doing this test and sticking to the proposed question. There are many ways to approach this question so I want to quickly explore these. "
   ]
  },
  {
   "cell_type": "markdown",
   "metadata": {},
   "source": [
    "\n",
    "\n",
    "Fishers exact test is a statistical test that determines if two category variables have non-random connections or we can say it’s used to check whether two category variables have a significant relationship. (in this case, the lady's guesses and the actual arrangement of cups). It is typically used in situations where you are working with a 2x2 contingency table and want to test for independence between the variables."
   ]
  },
  {
   "cell_type": "code",
   "execution_count": 56,
   "metadata": {},
   "outputs": [
    {
     "name": "stdout",
     "output_type": "stream",
     "text": [
      "Odds Ratio: inf\n",
      "P-value: 0.4545454545454546\n",
      "Fail to reject the null hypothesis: No significant association between the guesses and the actual arrangement.\n"
     ]
    }
   ],
   "source": [
    "from scipy.stats import fisher_exact\n",
    "\n",
    "# Create the 2x2 contingency table\n",
    "# [ [Correct Milk-First Guesses, Incorrect Milk-First Guesses], \n",
    "#   [Incorrect Tea-First Guesses, Correct Tea-First Guesses] ]\n",
    "contingency_table = [[6, 0],  # Milk-first: correct guesses (6), incorrect guesses (0)\n",
    "                     [4, 2]]  # Tea-first: incorrect guesses (4), correct guesses (2)\n",
    "\n",
    "# Perform Fisher's Exact Test\n",
    "odds_ratio, p_value = fisher_exact(contingency_table, alternative='two-sided')\n",
    "\n",
    "# Output the p-value and odds ratio\n",
    "print(f\"Odds Ratio: {odds_ratio}\")\n",
    "print(f\"P-value: {p_value}\")\n",
    "\n",
    "# Interpretation\n",
    "if p_value < 0.05:\n",
    "    print(\"Reject the null hypothesis: There is a significant association between the guesses and the actual arrangement.\")\n",
    "else:\n",
    "    print(\"Fail to reject the null hypothesis: No significant association between the guesses and the actual arrangement.\")\n"
   ]
  },
  {
   "cell_type": "markdown",
   "metadata": {},
   "source": [
    "Another possible way to create this test would be using a binomal test  because it tests whether the proportion of successes (i.e., correct guesses) differs significantly from a hypothesized value. The experiment is fundamentally a binomial process, where each trial (each cup) has one of two possible outcomes: the lady either guesses correctly or incorrectly. Given the binary nature of the outcomes (correct vs. incorrect) and the small sample size, it’s an ideal test to apply in this scenario."
   ]
  },
  {
   "cell_type": "code",
   "execution_count": 57,
   "metadata": {},
   "outputs": [
    {
     "name": "stdout",
     "output_type": "stream",
     "text": [
      "P-value: 0.015625\n",
      "We reject the null hypothesis: the result is statistically significant.\n"
     ]
    },
    {
     "name": "stderr",
     "output_type": "stream",
     "text": [
      "C:\\Users\\keith\\AppData\\Local\\Temp\\ipykernel_6620\\1146479267.py:12: DeprecationWarning: 'binom_test' is deprecated in favour of 'binomtest' from version 1.7.0 and will be removed in Scipy 1.12.0.\n",
      "  p_value = binom_test(correct_guesses, total_cups, expected_probability, alternative='greater')\n"
     ]
    }
   ],
   "source": [
    "from scipy.stats import binom_test\n",
    "\n",
    "# Number of correct guesses for milk-first cups\n",
    "correct_guesses = 6  # Change this to the observed number of correct guesses\n",
    "total_cups = 6  # Total milk-first cups\n",
    "\n",
    "# Set the expected probability for the null hypothesis (random guessing)\n",
    "expected_probability = 0.5  # 50% chance of guessing correctly\n",
    "\n",
    "# Perform Binomial Test\n",
    "# We use 'greater' because we are testing if the number of correct guesses is significantly greater than random chance.\n",
    "p_value = binom_test(correct_guesses, total_cups, expected_probability, alternative='greater')\n",
    "\n",
    "# Output the p-value\n",
    "print(f\"P-value: {p_value}\")\n",
    "\n",
    "# Interpretation based on p-value\n",
    "if p_value < 0.05:\n",
    "    print(\"We reject the null hypothesis: the result is statistically significant.\")\n",
    "else:\n",
    "    print(\"We fail to reject the null hypothesis: the result is not statistically significant.\")\n",
    "\n"
   ]
  },
  {
   "cell_type": "markdown",
   "metadata": {},
   "source": [
    "# Balancing Type I and Type II Errors:\n",
    "1. Type I Error (False Positive): Rejecting the null hypothesis when it is actually true. In this case, concluding that the lady can distinguish between the cups when she really can't. \n",
    "2. Type II Error (False Negative): Failing to reject the null hypothesis when it is false. In this case, not recognizing the lady’s ability to distinguish the cups when she can.\n",
    "\n"
   ]
  },
  {
   "cell_type": "markdown",
   "metadata": {},
   "source": [
    "# conclusion \n",
    "Using this simple experiment, Fisher established most of the fundamental principles for hypothesis testing, which contributed to major advances across biological and physical sciences.  \n",
    "The result of 4 out of 6 correct guesses is likely to occur by random chance, so it does not provide strong enough evidence to reject the idea that the lady is simply guessing.\n",
    "If the lady had made fewer errors (such as 1 or 0 errors), it would have been more statistically significant, and we might reject the null hypothesis.\n",
    "\n",
    "Summary:\n",
    "1. Two errors (4 correct guesses) would not be enough to reject the null hypothesis.\n",
    "2. The probability of making two errors by random chance is too high to conclude that the lady can reliably distinguish between milk-first and tea-first.\n",
    "\n",
    "\n",
    "\n",
    "\n",
    "\n"
   ]
  },
  {
   "cell_type": "markdown",
   "metadata": {},
   "source": [
    "------------------------------------------------------------------------------------------------------"
   ]
  },
  {
   "cell_type": "markdown",
   "metadata": {},
   "source": [
    "# task 2 "
   ]
  },
  {
   "cell_type": "code",
   "execution_count": 58,
   "metadata": {},
   "outputs": [],
   "source": [
    "import numpy as np\n",
    "import seaborn as sns\n",
    "import matplotlib.pyplot as plt "
   ]
  },
  {
   "cell_type": "code",
   "execution_count": 59,
   "metadata": {},
   "outputs": [
    {
     "data": {
      "text/plain": [
       "array([ 9.35832247, 14.01752219, 10.04180581, ..., 20.15227202,\n",
       "        8.82414139, 17.23346294])"
      ]
     },
     "execution_count": 59,
     "metadata": {},
     "output_type": "execute_result"
    }
   ],
   "source": [
    "mean = 10.0 \n",
    "std_dev = 3.0 \n",
    "sample_size = 100000 \n",
    "sample = np.random.normal(loc=mean, scale=std_dev, size=sample_size)\n",
    "sample\n"
   ]
  },
  {
   "cell_type": "code",
   "execution_count": 60,
   "metadata": {},
   "outputs": [
    {
     "data": {
      "text/plain": [
       "<Axes: ylabel='Count'>"
      ]
     },
     "execution_count": 60,
     "metadata": {},
     "output_type": "execute_result"
    },
    {
     "data": {
      "image/png": "[encoded data removed]",
      "text/plain": [
       "<Figure size 640x480 with 1 Axes>"
      ]
     },
     "metadata": {},
     "output_type": "display_data"
    }
   ],
   "source": [
    "sns.histplot(data=sample)"
   ]
  },
  {
   "cell_type": "code",
   "execution_count": 61,
   "metadata": {},
   "outputs": [
    {
     "data": {
      "text/plain": [
       "array([17.48451651,  6.30245065, 14.24421294, ...,  2.89801184,\n",
       "       15.04816984,  6.33128943])"
      ]
     },
     "execution_count": 61,
     "metadata": {},
     "output_type": "execute_result"
    }
   ],
   "source": [
    "dist = np.random.normal(10, 3.0,  10000)\n",
    "dist "
   ]
  },
  {
   "cell_type": "code",
   "execution_count": 62,
   "metadata": {},
   "outputs": [
    {
     "data": {
      "text/plain": [
       "<Axes: ylabel='Count'>"
      ]
     },
     "execution_count": 62,
     "metadata": {},
     "output_type": "execute_result"
    },
    {
     "data": {
      "image/png": "[encoded data removed]",
      "text/plain": [
       "<Figure size 640x480 with 1 Axes>"
      ]
     },
     "metadata": {},
     "output_type": "display_data"
    }
   ],
   "source": [
    "sns.histplot(dist)\n",
    "\n"
   ]
  },
  {
   "cell_type": "markdown",
   "metadata": {},
   "source": [
    "-----------------------------------------------------------------------------"
   ]
  },
  {
   "cell_type": "markdown",
   "metadata": {},
   "source": [
    "----------------------------------------------------------------------------------"
   ]
  },
  {
   "cell_type": "markdown",
   "metadata": {},
   "source": [
    "# What is Normal Distribution\n",
    "The normal distribution was first described in 1809 by Carl Gauss in the context of measurement errors in astronomy. Since then it has been used and applied extensively in relation to probability, statistics and machine learning. It is the default probability for many real-world scenarios and is widely used because many phenomena found in nature fall into this predictable pattern and can be effectively modeled by relatively simple functions.\n",
    "\n",
    "Normal distributions share the following characteristics:\n",
    "\n",
    "1. the mean, median and mode are equal The mean is the numerical average of a data set, the mode is the value that appears most frequently and the median is the middle number. In a normal distribution the top of the curve represents all three of these values and they are equal. The mean is often represented by the greek lower case letter µ (mu). The mean is the central tendency of the normal distribution and it defines the location of the peak for the bell curve around which all other values are clustered.\n",
    "\n",
    "2. it is symmetrical A normal distribution has a distinctive symmetrical bell shape and is often called a bell curve for this reason. This curve can be divided in the middle to produce two equal and symmetrical halves; the right side of the center is a mirror image of the left side.\n",
    "\n",
    "3. it is unimodal There is only one mode, or peak, in a normal distribution.\n",
    "\n",
    "4. it is asymptotic Normal distributions are continuous and have tails that are asymptotic. Continuous variables, as opposed to discrete variables which have finite values, can take on an unlimited number of values between the lowest and highest points of measurement. Asymptotic means that the tails of the distribution never intersect with the X axis."
   ]
  },
  {
   "cell_type": "code",
   "execution_count": 70,
   "metadata": {},
   "outputs": [
    {
     "data": {
      "image/png": "[encoded data removed]",
      "text/plain": [
       "<Figure size 640x480 with 1 Axes>"
      ]
     },
     "metadata": {},
     "output_type": "display_data"
    }
   ],
   "source": [
    "# taken from https://www.geeksforgeeks.org/python-normal-distribution-in-statistics/\n",
    "# Mean of the distribution \n",
    "Mean = 100\n",
    "\n",
    "# satndard deviation of the distribution\n",
    "Standard_deviation  = 5\n",
    " \n",
    "# size\n",
    "size = 100000\n",
    " \n",
    "# creating a normal distribution data\n",
    "values = np.random.normal(Mean, Standard_deviation, size)\n",
    " \n",
    "# plotting histograph\n",
    "plt.hist(values, 100)\n",
    "# plotting mean line\n",
    "plt.axvline(values.mean(), color='k', linestyle='dashed', linewidth=2)\n",
    "plt.show()"
   ]
  },
  {
   "cell_type": "markdown",
   "metadata": {},
   "source": [
    "# starting the task "
   ]
  },
  {
   "cell_type": "code",
   "execution_count": 71,
   "metadata": {},
   "outputs": [],
   "source": [
    "n, mu, sigma = 100000, 10.0, 3.0 "
   ]
  },
  {
   "cell_type": "code",
   "execution_count": 72,
   "metadata": {},
   "outputs": [],
   "source": [
    "sample = np.random.normal(mu, sigma, n)"
   ]
  },
  {
   "cell_type": "code",
   "execution_count": 73,
   "metadata": {},
   "outputs": [
    {
     "data": {
      "text/plain": [
       "array([ 8.4729266 , 11.43298413,  9.64735883, ...,  8.70579499,\n",
       "       10.04853768,  8.59192743])"
      ]
     },
     "execution_count": 73,
     "metadata": {},
     "output_type": "execute_result"
    }
   ],
   "source": [
    "sample = np.random.normal(loc=mean, scale=std_dev, size=sample_size)\n",
    "sample"
   ]
  },
  {
   "cell_type": "code",
   "execution_count": 74,
   "metadata": {},
   "outputs": [
    {
     "data": {
      "text/plain": [
       "Text(0, 0.5, 'Count')"
      ]
     },
     "execution_count": 74,
     "metadata": {},
     "output_type": "execute_result"
    },
    {
     "data": {
      "image/png": "[encoded data removed]",
      "text/plain": [
       "<Figure size 640x480 with 1 Axes>"
      ]
     },
     "metadata": {},
     "output_type": "display_data"
    }
   ],
   "source": [
    "# create a display object\n",
    "fig, ax = plt.subplots()\n",
    "\n",
    "# plot histogram of the data\n",
    "ax.hist(sample, bins=100)\n",
    "ax.set_title(f'Random Distribution of {n} Values, Mean = {mu}, SD = {sigma}')\n",
    "ax.set_xlabel('Value')\n",
    "ax.set_ylabel('Count')"
   ]
  },
  {
   "cell_type": "markdown",
   "metadata": {},
   "source": [
    "# some stats test will build on this over the coming days"
   ]
  },
  {
   "cell_type": "code",
   "execution_count": 75,
   "metadata": {},
   "outputs": [],
   "source": [
    "import scipy.stats as st\n",
    "from scipy.stats import kstest"
   ]
  },
  {
   "cell_type": "markdown",
   "metadata": {},
   "source": [
    "# The Shapiro wilk test"
   ]
  },
  {
   "cell_type": "markdown",
   "metadata": {},
   "source": [
    "The Shapiro-Wilk test is a hypothesis test that is applied to a sample with a null hypothesis that the sample has been generated from a normal distribution. If the p-value is low, we can reject such a null hypothesis and say that the sample has not been generated from a normal distribution. It was introduced by Samuel Shapiro and Martin Wilk in 1965 and has since become a standard method for normality testing due to its effectiveness and reliability."
   ]
  },
  {
   "cell_type": "code",
   "execution_count": 76,
   "metadata": {},
   "outputs": [
    {
     "name": "stdout",
     "output_type": "stream",
     "text": [
      "Shapiro-Wilk Test Statistic: 0.9999716281890869\n",
      "p-value: 0.6555721759796143\n"
     ]
    },
    {
     "name": "stderr",
     "output_type": "stream",
     "text": [
      "c:\\Users\\keith\\anaconda3\\Lib\\site-packages\\scipy\\stats\\_morestats.py:1882: UserWarning: p-value may not be accurate for N > 5000.\n",
      "  warnings.warn(\"p-value may not be accurate for N > 5000.\")\n"
     ]
    }
   ],
   "source": [
    "shapiro_test = st.shapiro(sample)\n",
    "print(\"Shapiro-Wilk Test Statistic:\", shapiro_test.statistic)\n",
    "print(\"p-value:\", shapiro_test.pvalue)"
   ]
  },
  {
   "cell_type": "markdown",
   "metadata": {},
   "source": [
    "# Anderson darling test "
   ]
  },
  {
   "cell_type": "markdown",
   "metadata": {},
   "source": [
    "The Anderson–Darling test is a statistical test of whether a given sample of data is drawn from a given probability distribution. the test assumes that there are no parameters to be estimated in the distribution being tested, in which case the test and its set of critical values is distribution-free. The test is named after Theodore Wilbur Anderson and Donald A. Darling, "
   ]
  },
  {
   "cell_type": "code",
   "execution_count": 77,
   "metadata": {},
   "outputs": [
    {
     "name": "stdout",
     "output_type": "stream",
     "text": [
      "anderson dardling Test Statistic: 0.44278685763129033\n"
     ]
    }
   ],
   "source": [
    "ad_test = st.anderson(sample, dist='norm')\n",
    "print(\"anderson dardling Test Statistic:\", ad_test.statistic)\n",
    "\n"
   ]
  },
  {
   "cell_type": "markdown",
   "metadata": {},
   "source": [
    "# the KS test"
   ]
  },
  {
   "cell_type": "markdown",
   "metadata": {},
   "source": [
    "The Kolmogorov-Smirnov (KS) test is a non-parametric test used to determine if a sample comes from a specific distribution or if two samples come from the same distribution. It is particularly useful for comparing continuous distributions."
   ]
  },
  {
   "cell_type": "code",
   "execution_count": 78,
   "metadata": {},
   "outputs": [
    {
     "name": "stdout",
     "output_type": "stream",
     "text": [
      "Kolmogorov-Smirnov Test Statistic: 0.0021681363535619724\n",
      "p-value: 0.7341491905772856\n",
      "The Kolmogorov-Smirnov test suggests no significant deviation from normality.\n"
     ]
    }
   ],
   "source": [
    "ks_stat, p_value = kstest(sample, 'norm', args=(mu, sigma))\n",
    "\n",
    "# Output the results\n",
    "print(\"Kolmogorov-Smirnov Test Statistic:\", ks_stat)\n",
    "print(\"p-value:\", p_value)\n",
    "\n",
    "# Interpretation\n",
    "if p_value > 0.05:\n",
    "    print(\"The Kolmogorov-Smirnov test suggests no significant deviation from normality.\")\n",
    "else:\n",
    "    print(\"The Kolmogorov-Smirnov test suggests a significant deviation from normality.\")"
   ]
  },
  {
   "cell_type": "markdown",
   "metadata": {},
   "source": [
    "## qq plot\n",
    "\n",
    "A Q-Q plot, short for “quantile-quantile” plot, is used to assess whether or not a set of data potentially came from some theoretical distribution.\n",
    "\n",
    "In most cases, this type of plot is used to determine whether or not a set of data follows a normal distribution.\n",
    "\n",
    "As a rule of thumb, the more that the points in a Q-Q plot lie on a straight diagonal line, the more normally distributed the data."
   ]
  },
  {
   "cell_type": "code",
   "execution_count": 79,
   "metadata": {},
   "outputs": [
    {
     "data": {
      "image/png": "[encoded data removed]",
      "text/plain": [
       "<Figure size 1000x600 with 1 Axes>"
      ]
     },
     "metadata": {},
     "output_type": "display_data"
    }
   ],
   "source": [
    "# Generate QQ plot again for clarity\n",
    "plt.figure(figsize=(10, 6))\n",
    "st.probplot(sample, dist=\"norm\", plot=plt)\n",
    "plt.title(\"QQ Plot of Generated Sample\")\n",
    "\n",
    "# Show the QQ plot\n",
    "plt.show()"
   ]
  },
  {
   "cell_type": "markdown",
   "metadata": {},
   "source": [
    "the above plot seems to show that our data is of a normal disturbution "
   ]
  },
  {
   "cell_type": "code",
   "execution_count": 80,
   "metadata": {},
   "outputs": [
    {
     "data": {
      "image/png": "[encoded data removed]",
      "text/plain": [
       "<Figure size 1000x600 with 1 Axes>"
      ]
     },
     "metadata": {},
     "output_type": "display_data"
    }
   ],
   "source": [
    "plt.figure(figsize=(10, 6))\n",
    "\n",
    "# Plot histogram of the sample\n",
    "plt.hist(sample, bins=50, density=True, alpha=0.6, color='g', label='Sample Histogram')\n",
    "\n",
    "# Plot the normal distribution PDF\n",
    "xmin, xmax = plt.xlim()\n",
    "x = np.linspace(xmin, xmax, 100)\n",
    "pdf = st.norm.pdf(x, mu, sigma)\n",
    "plt.plot(x, pdf, 'r', linewidth=2, label='Normal Distribution PDF')\n",
    "\n",
    "# Add labels and title\n",
    "plt.xlabel('Value')\n",
    "plt.ylabel('Density')\n",
    "plt.title('Histogram of Generated Values with Normal Distribution PDF')\n",
    "plt.legend()\n",
    "\n",
    "# Show the plot\n",
    "plt.show()\n"
   ]
  },
  {
   "cell_type": "markdown",
   "metadata": {},
   "source": [
    "as we can see the histogram of the generated sample matches well with the theoretical normal distribution PDF, confirming that the values follow a normal distribution. This along with the QQ plot and our stats test have proven our disturbution is normal. "
   ]
  },
  {
   "cell_type": "markdown",
   "metadata": {},
   "source": [
    "# Central limit theorem \n",
    "\n"
   ]
  }
 ],
 "metadata": {
  "kernelspec": {
   "display_name": "base",
   "language": "python",
   "name": "python3"
  },
  "language_info": {
   "codemirror_mode": {
    "name": "ipython",
    "version": 3
   },
   "file_extension": ".py",
   "mimetype": "text/x-python",
   "name": "python",
   "nbconvert_exporter": "python",
   "pygments_lexer": "ipython3",
   "version": "3.11.5"
  }
 },
 "nbformat": 4,
 "nbformat_minor": 2
}
