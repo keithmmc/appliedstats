{
 "cells": [
  {
   "cell_type": "markdown",
   "metadata": {},
   "source": [
    "# lady testing tea"
   ]
  },
  {
   "cell_type": "markdown",
   "metadata": {},
   "source": [
    "Purported to be loosely based on an event in Fisher's life, the experiment is based on a claim by a lady friend of Fisher's that when presented with a cup of tea she could that she could discern whether milk or tea was poured first into her cup. In the experiment the lady is presented with 8 cups of tea, four of which have the milk poured first and four of which have the tea poured first. Fisher's lady friend is then asked to select which cups have the milk poured first. The probability of the lady being able to select the four cups, with milk poured first, correctly is low enough that this outcome would be unlikely. Therefore, if over multiple runs of the experiment if the lady correctly selects the cups with milk poured in first, a statistical unlikelihood, the lady had the ability to discern the order in which tea and milk were poured in the cup.\n",
    "\n"
   ]
  },
  {
   "cell_type": "markdown",
   "metadata": {},
   "source": [
    "Problem Statement\n",
    "Suppose the Lady Tasting Tea experiment is altered to involve twelve cups of tea. Six have the milk in first and the other six having tea in first. A person claims that they have the special power of being able to tell if the tea or the milk went into a cup first upon tasting it. You agree to accept their claim if they can tell which of the six cups in your experiment had the milk in first.\n",
    "\n",
    "1. Calculate, using Python, the probability that they select the correct six cups.\n",
    "Suppose, now, you are willing to accept one error. Once they select the six cups they think had the milk in first, you will give them the benefit of the doubt should they have selected at least five of the correct cups.\n",
    "\n",
    "2. Calculate the probability, assuming they have no special powers, that the person makes at most one error.\n",
    "\n",
    "3. Would you accept two errors? Explain."
   ]
  },
  {
   "cell_type": "code",
   "execution_count": 28,
   "metadata": {},
   "outputs": [],
   "source": [
    "import pandas as pd \n",
    "import matplotlib.pyplot as plt \n",
    "import math "
   ]
  },
  {
   "cell_type": "code",
   "execution_count": 29,
   "metadata": {},
   "outputs": [],
   "source": [
    "total_no_cups = 12  #total number of cups \n",
    "milk_cups = 6 #cups with milk \n",
    "tea_cups = 6 #cups with tea first "
   ]
  },
  {
   "cell_type": "code",
   "execution_count": 30,
   "metadata": {},
   "outputs": [],
   "source": [
    "# Define the observed successes for both scenarios: milk-first and milk-second\n",
    "observed_successes_milk_first = [6, 5, 4, 3, 2, 1, 0]\n",
    "observed_successes_milk_second = [6, 5, 4, 3, 2, 1, 0]\n"
   ]
  },
  {
   "cell_type": "code",
   "execution_count": 31,
   "metadata": {},
   "outputs": [],
   "source": [
    "# Step 3: Define a function to compute results\n",
    "def compute_results(observed_successes, milk_cups, tea_cups, scenario):\n",
    "    results = []\n",
    "    comb_total = math.comb(total_no_cups, milk_cups)  # Total combinations for 6 out of 12 cups\n",
    "\n",
    "    for success in observed_successes:\n",
    "        errors_made = milk_cups - success\n",
    "        \n",
    "        # Permutations for correct identifications: P(k, k) = k!\n",
    "        perms_correct = math.factorial(success) if success > 0 else 1\n",
    "        \n",
    "        # Probability: calculate 1 / comb_total to find the chance of randomly getting the right cups\n",
    "        probability = perms_correct / comb_total\n",
    "        \n",
    "        # Add results to the list\n",
    "        results.append({\n",
    "            'Scenario': scenario,\n",
    "            'Observed Successes': success,\n",
    "            'Errors Made': errors_made,\n",
    "            'Combinations': comb_total,\n",
    "            'Permutations (Correct)': perms_correct,\n",
    "            'Probability': probability\n",
    "        })\n",
    "    return results\n"
   ]
  },
  {
   "cell_type": "code",
   "execution_count": 32,
   "metadata": {},
   "outputs": [
    {
     "data": {
      "text/html": [
       "<div>\n",
       "<style scoped>\n",
       "    .dataframe tbody tr th:only-of-type {\n",
       "        vertical-align: middle;\n",
       "    }\n",
       "\n",
       "    .dataframe tbody tr th {\n",
       "        vertical-align: top;\n",
       "    }\n",
       "\n",
       "    .dataframe thead th {\n",
       "        text-align: right;\n",
       "    }\n",
       "</style>\n",
       "<table border=\"1\" class=\"dataframe\">\n",
       "  <thead>\n",
       "    <tr style=\"text-align: right;\">\n",
       "      <th></th>\n",
       "      <th>Scenario</th>\n",
       "      <th>Observed Successes</th>\n",
       "      <th>Errors Made</th>\n",
       "      <th>Combinations</th>\n",
       "      <th>Permutations (Correct)</th>\n",
       "      <th>Probability</th>\n",
       "    </tr>\n",
       "  </thead>\n",
       "  <tbody>\n",
       "    <tr>\n",
       "      <th>0</th>\n",
       "      <td>Milk First</td>\n",
       "      <td>6</td>\n",
       "      <td>0</td>\n",
       "      <td>924</td>\n",
       "      <td>720</td>\n",
       "      <td>0.779221</td>\n",
       "    </tr>\n",
       "    <tr>\n",
       "      <th>1</th>\n",
       "      <td>Milk First</td>\n",
       "      <td>5</td>\n",
       "      <td>1</td>\n",
       "      <td>924</td>\n",
       "      <td>120</td>\n",
       "      <td>0.129870</td>\n",
       "    </tr>\n",
       "    <tr>\n",
       "      <th>2</th>\n",
       "      <td>Milk First</td>\n",
       "      <td>4</td>\n",
       "      <td>2</td>\n",
       "      <td>924</td>\n",
       "      <td>24</td>\n",
       "      <td>0.025974</td>\n",
       "    </tr>\n",
       "    <tr>\n",
       "      <th>3</th>\n",
       "      <td>Milk First</td>\n",
       "      <td>3</td>\n",
       "      <td>3</td>\n",
       "      <td>924</td>\n",
       "      <td>6</td>\n",
       "      <td>0.006494</td>\n",
       "    </tr>\n",
       "    <tr>\n",
       "      <th>4</th>\n",
       "      <td>Milk First</td>\n",
       "      <td>2</td>\n",
       "      <td>4</td>\n",
       "      <td>924</td>\n",
       "      <td>2</td>\n",
       "      <td>0.002165</td>\n",
       "    </tr>\n",
       "    <tr>\n",
       "      <th>5</th>\n",
       "      <td>Milk First</td>\n",
       "      <td>1</td>\n",
       "      <td>5</td>\n",
       "      <td>924</td>\n",
       "      <td>1</td>\n",
       "      <td>0.001082</td>\n",
       "    </tr>\n",
       "    <tr>\n",
       "      <th>6</th>\n",
       "      <td>Milk First</td>\n",
       "      <td>0</td>\n",
       "      <td>6</td>\n",
       "      <td>924</td>\n",
       "      <td>1</td>\n",
       "      <td>0.001082</td>\n",
       "    </tr>\n",
       "    <tr>\n",
       "      <th>7</th>\n",
       "      <td>Milk Second</td>\n",
       "      <td>6</td>\n",
       "      <td>0</td>\n",
       "      <td>924</td>\n",
       "      <td>720</td>\n",
       "      <td>0.779221</td>\n",
       "    </tr>\n",
       "    <tr>\n",
       "      <th>8</th>\n",
       "      <td>Milk Second</td>\n",
       "      <td>5</td>\n",
       "      <td>1</td>\n",
       "      <td>924</td>\n",
       "      <td>120</td>\n",
       "      <td>0.129870</td>\n",
       "    </tr>\n",
       "    <tr>\n",
       "      <th>9</th>\n",
       "      <td>Milk Second</td>\n",
       "      <td>4</td>\n",
       "      <td>2</td>\n",
       "      <td>924</td>\n",
       "      <td>24</td>\n",
       "      <td>0.025974</td>\n",
       "    </tr>\n",
       "    <tr>\n",
       "      <th>10</th>\n",
       "      <td>Milk Second</td>\n",
       "      <td>3</td>\n",
       "      <td>3</td>\n",
       "      <td>924</td>\n",
       "      <td>6</td>\n",
       "      <td>0.006494</td>\n",
       "    </tr>\n",
       "    <tr>\n",
       "      <th>11</th>\n",
       "      <td>Milk Second</td>\n",
       "      <td>2</td>\n",
       "      <td>4</td>\n",
       "      <td>924</td>\n",
       "      <td>2</td>\n",
       "      <td>0.002165</td>\n",
       "    </tr>\n",
       "    <tr>\n",
       "      <th>12</th>\n",
       "      <td>Milk Second</td>\n",
       "      <td>1</td>\n",
       "      <td>5</td>\n",
       "      <td>924</td>\n",
       "      <td>1</td>\n",
       "      <td>0.001082</td>\n",
       "    </tr>\n",
       "    <tr>\n",
       "      <th>13</th>\n",
       "      <td>Milk Second</td>\n",
       "      <td>0</td>\n",
       "      <td>6</td>\n",
       "      <td>924</td>\n",
       "      <td>1</td>\n",
       "      <td>0.001082</td>\n",
       "    </tr>\n",
       "  </tbody>\n",
       "</table>\n",
       "</div>"
      ],
      "text/plain": [
       "       Scenario  Observed Successes  Errors Made  Combinations  \\\n",
       "0    Milk First                   6            0           924   \n",
       "1    Milk First                   5            1           924   \n",
       "2    Milk First                   4            2           924   \n",
       "3    Milk First                   3            3           924   \n",
       "4    Milk First                   2            4           924   \n",
       "5    Milk First                   1            5           924   \n",
       "6    Milk First                   0            6           924   \n",
       "7   Milk Second                   6            0           924   \n",
       "8   Milk Second                   5            1           924   \n",
       "9   Milk Second                   4            2           924   \n",
       "10  Milk Second                   3            3           924   \n",
       "11  Milk Second                   2            4           924   \n",
       "12  Milk Second                   1            5           924   \n",
       "13  Milk Second                   0            6           924   \n",
       "\n",
       "    Permutations (Correct)  Probability  \n",
       "0                      720     0.779221  \n",
       "1                      120     0.129870  \n",
       "2                       24     0.025974  \n",
       "3                        6     0.006494  \n",
       "4                        2     0.002165  \n",
       "5                        1     0.001082  \n",
       "6                        1     0.001082  \n",
       "7                      720     0.779221  \n",
       "8                      120     0.129870  \n",
       "9                       24     0.025974  \n",
       "10                       6     0.006494  \n",
       "11                       2     0.002165  \n",
       "12                       1     0.001082  \n",
       "13                       1     0.001082  "
      ]
     },
     "execution_count": 32,
     "metadata": {},
     "output_type": "execute_result"
    }
   ],
   "source": [
    "# Step 4: Compute results for both scenarios\n",
    "results_milk_first = compute_results(observed_successes_milk_first, milk_cups, tea_cups, \"Milk First\")\n",
    "results_milk_second = compute_results(observed_successes_milk_second, milk_cups, tea_cups, \"Milk Second\")\n",
    "\n",
    "# Combine both scenarios into a single DataFrame\n",
    "df = pd.DataFrame(results_milk_first + results_milk_second)\n",
    "\n",
    "# Display the DataFrame\n",
    "df\n"
   ]
  },
  {
   "cell_type": "markdown",
   "metadata": {},
   "source": [
    "when looking at null hypothesis we again need to revisit Fisher, Fisher suggested that a significance level of 0.05 (or 5%) was a reasonable criterion for rejecting the null hypothesis in many cases. His work set the standard for hypothesis testing, and it has been widely adopted ever since so we will use this here. In this task the goal is to assess whether the lady can correctly distinguish the cups. The significance level of 0.05 provides a balance between being too strict (which might overlook her ability) and too lenient (which might falsely suggest she has the ability). If the probability of her success is less than 5%, we conclude that her correct guesses are unlikely to have been due to random chance, and we reject the null hypothesis."
   ]
  },
  {
   "cell_type": "code",
   "execution_count": 51,
   "metadata": {},
   "outputs": [
    {
     "name": "stdout",
     "output_type": "stream",
     "text": [
      "Null Hypothesis Rejected: The lady has successfully distinguished between milk-first and tea-first cups.\n"
     ]
    }
   ],
   "source": [
    "# Null Hypothesis: The lady cannot distinguish between cups with milk first and tea first.\n",
    "# We reject the null hypothesis if the probability of success is low enough (e.g., below a certain significance level)\n",
    "significance_level = 0.05 \n",
    "rejected_null = df[df['Probability']<= significance_level]\n",
    "if not rejected_null.empty:\n",
    "    print(\"Null Hypothesis Rejected: The lady has successfully distinguished between milk-first and tea-first cups.\")\n",
    "else:\n",
    "    print(\"Null Hypothesis Not Rejected: The lady has not distinguished between milk-first and tea-first cups.\")\n"
   ]
  },
  {
   "cell_type": "code",
   "execution_count": 54,
   "metadata": {},
   "outputs": [
    {
     "data": {
      "image/png": "[encoded data removed]",
      "text/plain": [
       "<Figure size 1200x600 with 2 Axes>"
      ]
     },
     "metadata": {},
     "output_type": "display_data"
    }
   ],
   "source": [
    "plt.figure(figsize=(12, 6))\n",
    "\n",
    "# Separate milk-first and milk-second results\n",
    "df_milk_first = df[df['Scenario'] == \"Milk First\"]\n",
    "df_milk_second = df[df['Scenario'] == \"Milk Second\"]\n",
    "\n",
    "# Create a subplot for Milk First\n",
    "plt.subplot(1, 2, 1)\n",
    "plt.bar(df_milk_first['Observed Successes'], df_milk_first['Probability'], color='blue', alpha=0.7)\n",
    "plt.xlabel('Observed Successes (Milk First)', fontsize=12)\n",
    "plt.ylabel('Probability', fontsize=12)\n",
    "plt.title('Milk First: Probability of Success', fontsize=14)\n",
    "\n",
    "# Create a subplot for Milk Second\n",
    "plt.subplot(1, 2, 2)\n",
    "plt.bar(df_milk_second['Observed Successes'], df_milk_second['Probability'], color='orange', alpha=0.7)\n",
    "plt.xlabel('Observed Successes (Milk Second)', fontsize=12)\n",
    "plt.ylabel('Probability', fontsize=12)\n",
    "plt.title('Milk Second: Probability of Success', fontsize=14)\n",
    "\n",
    "# Show the plot\n",
    "plt.tight_layout()\n",
    "plt.show()"
   ]
  },
  {
   "cell_type": "markdown",
   "metadata": {},
   "source": [
    "# Balancing Type I and Type II Errors:\n",
    "1. Type I Error (False Positive): Rejecting the null hypothesis when it is actually true. In this case, concluding that the lady can distinguish between the cups when she really can't.\n",
    "2. Type II Error (False Negative): Failing to reject the null hypothesis when it is false. In this case, not recognizing the lady’s ability to distinguish the cups when she can."
   ]
  },
  {
   "cell_type": "markdown",
   "metadata": {},
   "source": [
    "# conclusion \n",
    "The result of 4 out of 6 correct guesses is likely to occur by random chance, so it does not provide strong enough evidence to reject the idea that the lady is simply guessing.\n",
    "If the lady had made fewer errors (such as 1 or 0 errors), it would have been more statistically significant, and we might reject the null hypothesis.\n",
    "\n",
    "Summary:\n",
    "1. Two errors (4 correct guesses) would not be enough to reject the null hypothesis.\n",
    "2. The probability of making two errors by random chance is too high to conclude that the lady can reliably distinguish between milk-first and tea-first.\n",
    "\n",
    "\n",
    "\n",
    "\n",
    "\n"
   ]
  },
  {
   "cell_type": "markdown",
   "metadata": {},
   "source": [
    "------------------------------------------------------------------------------------------------------"
   ]
  },
  {
   "cell_type": "markdown",
   "metadata": {},
   "source": [
    "# task 2 "
   ]
  },
  {
   "cell_type": "code",
   "execution_count": 59,
   "metadata": {},
   "outputs": [],
   "source": [
    "import numpy as np\n",
    "import seaborn as sns"
   ]
  },
  {
   "cell_type": "code",
   "execution_count": 60,
   "metadata": {},
   "outputs": [
    {
     "data": {
      "text/plain": [
       "array([11.72851554, 11.97660256,  7.29989233, ...,  3.58071559,\n",
       "        6.99588891, 13.29393107])"
      ]
     },
     "execution_count": 60,
     "metadata": {},
     "output_type": "execute_result"
    }
   ],
   "source": [
    "mean = 10.0 \n",
    "std_dev = 3.0 \n",
    "sample_size = 100000 \n",
    "sample = np.random.normal(loc=mean, scale=std_dev, size=sample_size)\n",
    "sample\n"
   ]
  },
  {
   "cell_type": "code",
   "execution_count": 61,
   "metadata": {},
   "outputs": [
    {
     "data": {
      "text/plain": [
       "<Axes: ylabel='Count'>"
      ]
     },
     "execution_count": 61,
     "metadata": {},
     "output_type": "execute_result"
    },
    {
     "data": {
      "image/png": "[encoded data removed]",
      "text/plain": [
       "<Figure size 640x480 with 1 Axes>"
      ]
     },
     "metadata": {},
     "output_type": "display_data"
    }
   ],
   "source": [
    "sns.histplot(data=sample)"
   ]
  }
 ],
 "metadata": {
  "kernelspec": {
   "display_name": "base",
   "language": "python",
   "name": "python3"
  },
  "language_info": {
   "codemirror_mode": {
    "name": "ipython",
    "version": 3
   },
   "file_extension": ".py",
   "mimetype": "text/x-python",
   "name": "python",
   "nbconvert_exporter": "python",
   "pygments_lexer": "ipython3",
   "version": "3.11.5"
  }
 },
 "nbformat": 4,
 "nbformat_minor": 2
}
